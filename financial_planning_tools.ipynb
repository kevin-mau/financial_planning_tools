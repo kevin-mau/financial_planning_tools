{
 "cells": [
  {
   "cell_type": "markdown",
   "metadata": {},
   "source": [
    "# Financial Planning with APIs and Simulations\n",
    "\n",
    "In this Challenge, you’ll create two financial analysis tools by using a single Jupyter notebook:\n",
    "\n",
    "Part 1: A financial planner for emergencies. The members will be able to use this tool to visualize their current savings. The members can then determine if they have enough reserves for an emergency fund.\n",
    "\n",
    "Part 2: A financial planner for retirement. This tool will forecast the performance of their retirement portfolio in 30 years. To do this, the tool will make an Alpaca API call via the Alpaca SDK to get historical price data for use in Monte Carlo simulations.\n",
    "\n",
    "You’ll use the information from the Monte Carlo simulation to answer questions about the portfolio in your Jupyter notebook.\n",
    "\n"
   ]
  },
  {
   "cell_type": "code",
   "execution_count": 1,
   "metadata": {},
   "outputs": [],
   "source": [
    "# Import the required libraries and dependencies\n",
    "import os\n",
    "import requests\n",
    "import json\n",
    "import pandas as pd\n",
    "from dotenv import load_dotenv\n",
    "import alpaca_trade_api as tradeapi\n",
    "from MCForecastTools import MCSimulation\n",
    "\n",
    "%matplotlib inline"
   ]
  },
  {
   "cell_type": "code",
   "execution_count": 2,
   "metadata": {},
   "outputs": [
    {
     "data": {
      "text/plain": [
       "True"
      ]
     },
     "execution_count": 2,
     "metadata": {},
     "output_type": "execute_result"
    }
   ],
   "source": [
    "# Load the environment variables from the .env file\n",
    "#by calling the load_dotenv function\n",
    "load_dotenv()"
   ]
  },
  {
   "cell_type": "markdown",
   "metadata": {},
   "source": [
    "## Part 1: Create a Financial Planner for Emergencies"
   ]
  },
  {
   "cell_type": "markdown",
   "metadata": {},
   "source": [
    "### Evaluate the Cryptocurrency Wallet by Using the Requests Library\n",
    "\n",
    "In this section, you’ll determine the current value of a member’s cryptocurrency wallet. You’ll collect the current prices for the Bitcoin and Ethereum cryptocurrencies by using the Python Requests library. For the prototype, you’ll assume that the member holds the 1.2 Bitcoins (BTC) and 5.3 Ethereum coins (ETH). To do all this, complete the following steps:\n",
    "\n",
    "1. Create a variable named `monthly_income`, and set its value to `12000`.\n",
    "\n",
    "2. Use the Requests library to get the current price (in US dollars) of Bitcoin (BTC) and Ethereum (ETH) by using the API endpoints that the starter code supplies.\n",
    "\n",
    "3. Navigate the JSON response object to access the current price of each coin, and store each in a variable.\n",
    "\n",
    "    > **Hint** Note the specific identifier for each cryptocurrency in the API JSON response. The Bitcoin identifier is `1`, and the Ethereum identifier is `1027`.\n",
    "\n",
    "4. Calculate the value, in US dollars, of the current amount of each cryptocurrency and of the entire cryptocurrency wallet.\n",
    "\n"
   ]
  },
  {
   "cell_type": "code",
   "execution_count": 3,
   "metadata": {},
   "outputs": [],
   "source": [
    "# The current number of coins for each cryptocurrency asset held in the portfolio.\n",
    "btc_coins = 1.2\n",
    "eth_coins = 5.3"
   ]
  },
  {
   "cell_type": "markdown",
   "metadata": {},
   "source": [
    "#### Step 1: Create a variable named `monthly_income`, and set its value to `12000`."
   ]
  },
  {
   "cell_type": "code",
   "execution_count": 4,
   "metadata": {},
   "outputs": [],
   "source": [
    "# The monthly amount for the member's household income\n",
    "monthly_income = 12000\n"
   ]
  },
  {
   "cell_type": "markdown",
   "metadata": {},
   "source": [
    "#### Review the endpoint URLs for the API calls to Free Crypto API in order to get the current pricing information for both BTC and ETH."
   ]
  },
  {
   "cell_type": "code",
   "execution_count": 5,
   "metadata": {},
   "outputs": [],
   "source": [
    "# The Free Crypto API Call endpoint URLs for the held cryptocurrency assets\n",
    "btc_url = \"https://api.alternative.me/v2/ticker/Bitcoin/?convert=USD\"\n",
    "eth_url = \"https://api.alternative.me/v2/ticker/Ethereum/?convert=USD\""
   ]
  },
  {
   "cell_type": "markdown",
   "metadata": {},
   "source": [
    "#### Step 2. Use the Requests library to get the current price (in US dollars) of Bitcoin (BTC) and Ethereum (ETH) by using the API endpoints that the starter code supplied."
   ]
  },
  {
   "cell_type": "code",
   "execution_count": 6,
   "metadata": {},
   "outputs": [
    {
     "name": "stdout",
     "output_type": "stream",
     "text": [
      "{\n",
      "    \"data\": {\n",
      "        \"1\": {\n",
      "            \"circulating_supply\": 18772587,\n",
      "            \"id\": 1,\n",
      "            \"last_updated\": 1627770889,\n",
      "            \"max_supply\": 21000000,\n",
      "            \"name\": \"Bitcoin\",\n",
      "            \"quotes\": {\n",
      "                \"USD\": {\n",
      "                    \"market_cap\": 783676195149,\n",
      "                    \"percent_change_1h\": 0.192010331475471,\n",
      "                    \"percent_change_24h\": 1.63504389158546,\n",
      "                    \"percent_change_7d\": 24.9547917161381,\n",
      "                    \"percentage_change_1h\": 0.192010331475471,\n",
      "                    \"percentage_change_24h\": 1.63504389158546,\n",
      "                    \"percentage_change_7d\": 24.9547917161381,\n",
      "                    \"price\": 41804.0,\n",
      "                    \"volume_24h\": 29794184054\n",
      "                }\n",
      "            },\n",
      "            \"rank\": 1,\n",
      "            \"symbol\": \"BTC\",\n",
      "            \"total_supply\": 18772587,\n",
      "            \"website_slug\": \"bitcoin\"\n",
      "        }\n",
      "    },\n",
      "    \"metadata\": {\n",
      "        \"error\": null,\n",
      "        \"num_cryptocurrencies\": 3105,\n",
      "        \"timestamp\": 1627770889\n",
      "    }\n",
      "}\n"
     ]
    }
   ],
   "source": [
    "# Using the Python requests library, make an API call to access the current price of BTC\n",
    "btc_response = requests.get(btc_url).json()\n",
    "\n",
    "# Use the json.dumps function to review the response data from the API call\n",
    "# Use the indent and sort_keys parameters to make the response object readable\n",
    "print(json.dumps(btc_response, indent=4, sort_keys=True))\n"
   ]
  },
  {
   "cell_type": "code",
   "execution_count": 7,
   "metadata": {},
   "outputs": [
    {
     "name": "stdout",
     "output_type": "stream",
     "text": [
      "{\n",
      "    \"data\": {\n",
      "        \"1027\": {\n",
      "            \"circulating_supply\": 116919901,\n",
      "            \"id\": 1027,\n",
      "            \"last_updated\": 1627770879,\n",
      "            \"max_supply\": 0,\n",
      "            \"name\": \"Ethereum\",\n",
      "            \"quotes\": {\n",
      "                \"USD\": {\n",
      "                    \"market_cap\": 294887131611,\n",
      "                    \"percent_change_1h\": -0.0008745011732654,\n",
      "                    \"percent_change_24h\": 3.96671315559666,\n",
      "                    \"percent_change_7d\": 19.4187084997522,\n",
      "                    \"percentage_change_1h\": -0.0008745011732654,\n",
      "                    \"percentage_change_24h\": 3.96671315559666,\n",
      "                    \"percentage_change_7d\": 19.4187084997522,\n",
      "                    \"price\": 2528.28,\n",
      "                    \"volume_24h\": 21764987172\n",
      "                }\n",
      "            },\n",
      "            \"rank\": 2,\n",
      "            \"symbol\": \"ETH\",\n",
      "            \"total_supply\": 116919901,\n",
      "            \"website_slug\": \"ethereum\"\n",
      "        }\n",
      "    },\n",
      "    \"metadata\": {\n",
      "        \"error\": null,\n",
      "        \"num_cryptocurrencies\": 3105,\n",
      "        \"timestamp\": 1627770879\n",
      "    }\n",
      "}\n"
     ]
    }
   ],
   "source": [
    "# Using the Python requests library, make an API call to access the current price ETH\n",
    "eth_response = requests.get(eth_url).json()\n",
    "\n",
    "# Use the json.dumps function to review the response data from the API call\n",
    "# Use the indent and sort_keys parameters to make the response object readable\n",
    "print(json.dumps(eth_response, indent=4, sort_keys=True))\n"
   ]
  },
  {
   "cell_type": "markdown",
   "metadata": {},
   "source": [
    "#### Step 3: Navigate the JSON response object to access the current price of each coin, and store each in a variable."
   ]
  },
  {
   "cell_type": "code",
   "execution_count": 11,
   "metadata": {},
   "outputs": [
    {
     "name": "stdout",
     "output_type": "stream",
     "text": [
      "The price for Bitcoin is $41,804.00\n"
     ]
    }
   ],
   "source": [
    "# Navigate the BTC response object to access the current price of BTC\n",
    "btc_price = btc_response['data']['1']['quotes']['USD']['price']\n",
    "\n",
    "# Print the current price of BTC\n",
    "print(f\"The price for Bitcoin is ${btc_price:,.2f}\")\n"
   ]
  },
  {
   "cell_type": "code",
   "execution_count": 13,
   "metadata": {},
   "outputs": [
    {
     "name": "stdout",
     "output_type": "stream",
     "text": [
      "The price for Ethereum is $2,528.28\n"
     ]
    }
   ],
   "source": [
    "# Navigate the BTC response object to access the current price of ETH\n",
    "eth_price = eth_response['data']['1027']['quotes']['USD']['price']\n",
    "\n",
    "# Print the current price of ETH\n",
    "print(f\"The price for Ethereum is ${eth_price:,.2f}\")\n"
   ]
  },
  {
   "cell_type": "markdown",
   "metadata": {},
   "source": [
    "### Step 4: Calculate the value, in US dollars, of the current amount of each cryptocurrency and of the entire cryptocurrency wallet."
   ]
  },
  {
   "cell_type": "code",
   "execution_count": 15,
   "metadata": {},
   "outputs": [
    {
     "name": "stdout",
     "output_type": "stream",
     "text": [
      "The current value of your holding of Bitcoin is $50,164.80\n"
     ]
    }
   ],
   "source": [
    "# Compute the current value of the BTC holding \n",
    "btc_value = btc_price * btc_coins\n",
    "\n",
    "# Print current value of your holding in BTC\n",
    "print(f\"The current value of your holding of Bitcoin is ${btc_value:,.2f}\")\n"
   ]
  },
  {
   "cell_type": "code",
   "execution_count": 16,
   "metadata": {},
   "outputs": [
    {
     "name": "stdout",
     "output_type": "stream",
     "text": [
      "The current value of your holding of Ethereum is $13,399.88\n"
     ]
    }
   ],
   "source": [
    "# Compute the current value of the ETH holding \n",
    "eth_value = eth_price * eth_coins\n",
    "\n",
    "# Print current value of your holding in ETH\n",
    "print(f\"The current value of your holding of Ethereum is ${eth_value:,.2f}\")\n"
   ]
  },
  {
   "cell_type": "code",
   "execution_count": 17,
   "metadata": {},
   "outputs": [
    {
     "name": "stdout",
     "output_type": "stream",
     "text": [
      "The current value of your cryptocurrency wallet is $63,564.68\n"
     ]
    }
   ],
   "source": [
    "# Compute the total value of the cryptocurrency wallet\n",
    "# Add the value of the BTC holding to the value of the ETH holding\n",
    "total_crypto_wallet = btc_value + eth_value\n",
    "\n",
    "# Print current cryptocurrency wallet balance\n",
    "print(f\"The current value of your cryptocurrency wallet is ${total_crypto_wallet:,.2f}\")\n"
   ]
  },
  {
   "cell_type": "markdown",
   "metadata": {},
   "source": [
    "### Evaluate the Stock and Bond Holdings by Using the Alpaca SDK\n",
    "\n",
    "In this section, you’ll determine the current value of a member’s stock and bond holdings. You’ll make an API call to Alpaca via the Alpaca SDK to get the current closing prices of the SPDR S&P 500 ETF Trust (ticker: SPY) and of the iShares Core US Aggregate Bond ETF (ticker: AGG). For the prototype, assume that the member holds 110 shares of SPY, which represents the stock portion of their portfolio, and 200 shares of AGG, which represents the bond portion. To do all this, complete the following steps:\n",
    "\n",
    "1. In the `Starter_Code` folder, create an environment file (`.env`) to store the values of your Alpaca API key and Alpaca secret key.\n",
    "\n",
    "2. Set the variables for the Alpaca API and secret keys. Using the Alpaca SDK, create the Alpaca `tradeapi.REST` object. In this object, include the parameters for the Alpaca API key, the secret key, and the version number.\n",
    "\n",
    "3. Set the following parameters for the Alpaca API call:\n",
    "\n",
    "    - `tickers`: Use the tickers for the member’s stock and bond holdings.\n",
    "\n",
    "    - `timeframe`: Use a time frame of one day.\n",
    "\n",
    "    - `start_date` and `end_date`: Use the same date for these parameters, and format them with the date of the previous weekday (or `2020-08-07`). This is because you want the one closing price for the most-recent trading day.\n",
    "\n",
    "4. Get the current closing prices for `SPY` and `AGG` by using the Alpaca `get_barset` function. Format the response as a Pandas DataFrame by including the `df` property at the end of the `get_barset` function.\n",
    "\n",
    "5. Navigating the Alpaca response DataFrame, select the `SPY` and `AGG` closing prices, and store them as variables.\n",
    "\n",
    "6. Calculate the value, in US dollars, of the current amount of shares in each of the stock and bond portions of the portfolio, and print the results.\n"
   ]
  },
  {
   "cell_type": "markdown",
   "metadata": {},
   "source": [
    "#### Review the total number of shares held in both (SPY) and (AGG)."
   ]
  },
  {
   "cell_type": "code",
   "execution_count": 22,
   "metadata": {},
   "outputs": [],
   "source": [
    "# Current amount of shares held in both the stock (SPY) and bond (AGG) portion of the portfolio.\n",
    "spy_shares = 110\n",
    "agg_shares = 200\n"
   ]
  },
  {
   "cell_type": "markdown",
   "metadata": {},
   "source": [
    "#### Step 1: In the `Starter_Code` folder, create an environment file (`.env`) to store the values of your Alpaca API key and Alpaca secret key."
   ]
  },
  {
   "cell_type": "markdown",
   "metadata": {},
   "source": [
    "#### Step 2: Set the variables for the Alpaca API and secret keys. Using the Alpaca SDK, create the Alpaca `tradeapi.REST` object. In this object, include the parameters for the Alpaca API key, the secret key, and the version number."
   ]
  },
  {
   "cell_type": "code",
   "execution_count": 23,
   "metadata": {},
   "outputs": [],
   "source": [
    "# Set the variables for the Alpaca API and secret keys\n",
    "alpaca_api_key = os.getenv(\"ALPACA_API_KEY\")\n",
    "alpaca_secret_key = os.getenv(\"ALPACA_SECRET_KEY\")\n",
    "\n",
    "# Create the Alpaca tradeapi.REST object\n",
    "alpaca = tradeapi.REST(\n",
    "    alpaca_api_key,\n",
    "    alpaca_secret_key,\n",
    "    api_version=\"v2\")\n"
   ]
  },
  {
   "cell_type": "markdown",
   "metadata": {},
   "source": [
    "#### Step 3: Set the following parameters for the Alpaca API call:\n",
    "\n",
    "- `tickers`: Use the tickers for the member’s stock and bond holdings.\n",
    "\n",
    "- `timeframe`: Use a time frame of one day.\n",
    "\n",
    "- `start_date` and `end_date`: Use the same date for these parameters, and format them with the date of the previous weekday (or `2020-08-07`). This is because you want the one closing price for the most-recent trading day.\n"
   ]
  },
  {
   "cell_type": "code",
   "execution_count": 24,
   "metadata": {},
   "outputs": [],
   "source": [
    "# Set the tickers for both the bond and stock portion of the portfolio\n",
    "tickers = [\"SPY\", \"AGG\"]\n",
    "\n",
    "# Set timeframe to 1D \n",
    "timeframe = \"1D\"\n",
    "\n",
    "# Format current date as ISO format\n",
    "# Set both the start and end date at the date of your prior weekday \n",
    "# This will give you the closing price of the previous trading day\n",
    "# Alternatively you can use a start and end date of 2020-08-07\n",
    "start_date = pd.Timestamp(\"2021-07-30\", tz=\"America/New_York\").isoformat()\n",
    "end_date = pd.Timestamp(\"2021-07-30\", tz=\"America/New_York\").isoformat()\n"
   ]
  },
  {
   "cell_type": "markdown",
   "metadata": {},
   "source": [
    "#### Step 4: Get the current closing prices for `SPY` and `AGG` by using the Alpaca `get_barset` function. Format the response as a Pandas DataFrame by including the `df` property at the end of the `get_barset` function."
   ]
  },
  {
   "cell_type": "code",
   "execution_count": 25,
   "metadata": {},
   "outputs": [
    {
     "data": {
      "text/html": [
       "<div>\n",
       "<style scoped>\n",
       "    .dataframe tbody tr th:only-of-type {\n",
       "        vertical-align: middle;\n",
       "    }\n",
       "\n",
       "    .dataframe tbody tr th {\n",
       "        vertical-align: top;\n",
       "    }\n",
       "\n",
       "    .dataframe thead tr th {\n",
       "        text-align: left;\n",
       "    }\n",
       "\n",
       "    .dataframe thead tr:last-of-type th {\n",
       "        text-align: right;\n",
       "    }\n",
       "</style>\n",
       "<table border=\"1\" class=\"dataframe\">\n",
       "  <thead>\n",
       "    <tr>\n",
       "      <th></th>\n",
       "      <th colspan=\"5\" halign=\"left\">AGG</th>\n",
       "      <th colspan=\"5\" halign=\"left\">SPY</th>\n",
       "    </tr>\n",
       "    <tr>\n",
       "      <th></th>\n",
       "      <th>open</th>\n",
       "      <th>high</th>\n",
       "      <th>low</th>\n",
       "      <th>close</th>\n",
       "      <th>volume</th>\n",
       "      <th>open</th>\n",
       "      <th>high</th>\n",
       "      <th>low</th>\n",
       "      <th>close</th>\n",
       "      <th>volume</th>\n",
       "    </tr>\n",
       "    <tr>\n",
       "      <th>time</th>\n",
       "      <th></th>\n",
       "      <th></th>\n",
       "      <th></th>\n",
       "      <th></th>\n",
       "      <th></th>\n",
       "      <th></th>\n",
       "      <th></th>\n",
       "      <th></th>\n",
       "      <th></th>\n",
       "      <th></th>\n",
       "    </tr>\n",
       "  </thead>\n",
       "  <tbody>\n",
       "    <tr>\n",
       "      <th>2021-07-30 00:00:00-04:00</th>\n",
       "      <td>116.36</td>\n",
       "      <td>116.485</td>\n",
       "      <td>116.3532</td>\n",
       "      <td>116.45</td>\n",
       "      <td>4859650</td>\n",
       "      <td>437.91</td>\n",
       "      <td>440.06</td>\n",
       "      <td>437.77</td>\n",
       "      <td>438.49</td>\n",
       "      <td>56594282</td>\n",
       "    </tr>\n",
       "  </tbody>\n",
       "</table>\n",
       "</div>"
      ],
      "text/plain": [
       "                              AGG                                         SPY  \\\n",
       "                             open     high       low   close   volume    open   \n",
       "time                                                                            \n",
       "2021-07-30 00:00:00-04:00  116.36  116.485  116.3532  116.45  4859650  437.91   \n",
       "\n",
       "                                                             \n",
       "                             high     low   close    volume  \n",
       "time                                                         \n",
       "2021-07-30 00:00:00-04:00  440.06  437.77  438.49  56594282  "
      ]
     },
     "execution_count": 25,
     "metadata": {},
     "output_type": "execute_result"
    }
   ],
   "source": [
    "# Use the Alpaca get_barset function to get current closing prices the portfolio\n",
    "# Be sure to set the `df` property after the function to format the response object as a DataFrame\n",
    "df_portfolio = alpaca.get_barset(\n",
    "    tickers,\n",
    "    timeframe,\n",
    "    start = start_date,\n",
    "    end = end_date\n",
    ").df\n",
    "\n",
    "# Review the first 5 rows of the Alpaca DataFrame\n",
    "df_portfolio.head()\n"
   ]
  },
  {
   "cell_type": "markdown",
   "metadata": {},
   "source": [
    "#### Step 5: Navigating the Alpaca response DataFrame, select the `SPY` and `AGG` closing prices, and store them as variables."
   ]
  },
  {
   "cell_type": "code",
   "execution_count": 26,
   "metadata": {},
   "outputs": [
    {
     "name": "stdout",
     "output_type": "stream",
     "text": [
      "The closing price of iShares Core US Aggregate Bond ETF is $116.45\n"
     ]
    }
   ],
   "source": [
    "# Access the closing price for AGG from the Alpaca DataFrame\n",
    "# Converting the value to a floating point number\n",
    "agg_close_price = df_portfolio[\"AGG\"][\"close\"]\n",
    "agg_close_price = float(agg_close_price)\n",
    "# Print the AGG closing price\n",
    "print(f\"The closing price of iShares Core US Aggregate Bond ETF is ${agg_close_price:,.2f}\")\n"
   ]
  },
  {
   "cell_type": "code",
   "execution_count": 28,
   "metadata": {},
   "outputs": [
    {
     "name": "stdout",
     "output_type": "stream",
     "text": [
      "The closing price of SPDR S&P 500 ETF Trust is $438.49\n"
     ]
    }
   ],
   "source": [
    "# Access the closing price for SPY from the Alpaca DataFrame\n",
    "# Converting the value to a floating point number\n",
    "spy_close_price = df_portfolio[\"SPY\"][\"close\"]\n",
    "spy_close_price = float(spy_close_price)\n",
    "\n",
    "# Print the SPY closing price\n",
    "print(f\"The closing price of SPDR S&P 500 ETF Trust is ${spy_close_price:,.2f}\")\n"
   ]
  },
  {
   "cell_type": "markdown",
   "metadata": {},
   "source": [
    "#### Step 6: Calculate the value, in US dollars, of the current amount of shares in each of the stock and bond portions of the portfolio, and print the results."
   ]
  },
  {
   "cell_type": "code",
   "execution_count": 30,
   "metadata": {},
   "outputs": [
    {
     "name": "stdout",
     "output_type": "stream",
     "text": [
      "The current value of iShares Core US Aggregate Bond ETF in the bond portfolio is $23,290.00\n"
     ]
    }
   ],
   "source": [
    "# Calculate the current value of the bond portion of the portfolio\n",
    "agg_value = agg_close_price * agg_shares\n",
    "\n",
    "# Print the current value of the bond portfolio\n",
    "print(f\"The current value of iShares Core US Aggregate Bond ETF in the bond portfolio is ${agg_value:,.2f}\")\n"
   ]
  },
  {
   "cell_type": "code",
   "execution_count": 32,
   "metadata": {},
   "outputs": [
    {
     "name": "stdout",
     "output_type": "stream",
     "text": [
      "The current value of  SPDR S&P 500 ETF Trust in the stock portfolio is $48,233.90\n"
     ]
    }
   ],
   "source": [
    "# Calculate the current value of the stock portion of the portfolio\n",
    "spy_value = spy_close_price * spy_shares\n",
    "\n",
    "# Print the current value of the stock portfolio\n",
    "print(f\"The current value of  SPDR S&P 500 ETF Trust in the stock portfolio is ${spy_value:,.2f}\")\n"
   ]
  },
  {
   "cell_type": "code",
   "execution_count": 34,
   "metadata": {},
   "outputs": [
    {
     "name": "stdout",
     "output_type": "stream",
     "text": [
      "The current balance of the stock and bond portion of the portfolio is $71,523.90\n"
     ]
    }
   ],
   "source": [
    "# Calculate the total value of the stock and bond portion of the portfolio\n",
    "total_stocks_bonds = spy_value + agg_value\n",
    "\n",
    "# Print the current balance of the stock and bond portion of the portfolio\n",
    "print(f\"The current balance of the stock and bond portion of the portfolio is ${total_stocks_bonds:,.2f}\")\n"
   ]
  },
  {
   "cell_type": "code",
   "execution_count": 35,
   "metadata": {},
   "outputs": [
    {
     "name": "stdout",
     "output_type": "stream",
     "text": [
      "The current balance of the stock and bond portfolio and the current cryptocurrency wallet balance is $135,088.58\n"
     ]
    }
   ],
   "source": [
    "# Calculate the total value of the member's entire savings portfolio\n",
    "# Add the value of the cryptocurrency walled to the value of the total stocks and bonds\n",
    "total_portfolio = total_crypto_wallet + total_stocks_bonds\n",
    "\n",
    "# Print current cryptocurrency wallet balance\n",
    "print(f\"The current balance of the stock and bond portfolio and the current cryptocurrency wallet balance is ${total_portfolio:,.2f}\")\n"
   ]
  },
  {
   "cell_type": "markdown",
   "metadata": {},
   "source": [
    "### Evaluate the Emergency Fund\n",
    "\n",
    "In this section, you’ll use the valuations for the cryptocurrency wallet and for the stock and bond portions of the portfolio to determine if the credit union member has enough savings to build an emergency fund into their financial plan. To do this, complete the following steps:\n",
    "\n",
    "1. Create a Python list named `savings_data` that has two elements. The first element contains the total value of the cryptocurrency wallet. The second element contains the total value of the stock and bond portions of the portfolio.\n",
    "\n",
    "2. Use the `savings_data` list to create a Pandas DataFrame named `savings_df`, and then display this DataFrame. The function to create the DataFrame should take the following three parameters:\n",
    "\n",
    "    - `savings_data`: Use the list that you just created.\n",
    "\n",
    "    - `columns`: Set this parameter equal to a Python list with a single value called `amount`.\n",
    "\n",
    "    - `index`: Set this parameter equal to a Python list with the values of `crypto` and `stock/bond`.\n",
    "\n",
    "3. Use the `savings_df` DataFrame to plot a pie chart that visualizes the composition of the member’s portfolio. The y-axis of the pie chart uses `amount`. Be sure to add a title.\n",
    "\n",
    "4. Using Python, determine if the current portfolio has enough to create an emergency fund as part of the member’s financial plan. Ideally, an emergency fund should equal to three times the member’s monthly income. To do this, implement the following steps:\n",
    "\n",
    "    1. Create a variable named `emergency_fund_value`, and set it equal to three times the value of the member’s `monthly_income` of $12000. (You set this earlier in Part 1).\n",
    "\n",
    "    2. Create a series of three if statements to determine if the member’s total portfolio is large enough to fund the emergency portfolio:\n",
    "\n",
    "        1. If the total portfolio value is greater than the emergency fund value, display a message congratulating the member for having enough money in this fund.\n",
    "\n",
    "        2. Else if the total portfolio value is equal to the emergency fund value, display a message congratulating the member on reaching this important financial goal.\n",
    "\n",
    "        3. Else the total portfolio is less than the emergency fund value, so display a message showing how many dollars away the member is from reaching the goal. (Subtract the total portfolio value from the emergency fund value.)\n"
   ]
  },
  {
   "cell_type": "markdown",
   "metadata": {},
   "source": [
    "#### Step 1: Create a Python list named `savings_data` that has two elements. The first element contains the total value of the cryptocurrency wallet. The second element contains the total value of the stock and bond portions of the portfolio."
   ]
  },
  {
   "cell_type": "code",
   "execution_count": 36,
   "metadata": {},
   "outputs": [
    {
     "data": {
      "text/plain": [
       "[63564.683999999994, 71523.9]"
      ]
     },
     "execution_count": 36,
     "metadata": {},
     "output_type": "execute_result"
    }
   ],
   "source": [
    "# Consolidate financial assets data into a Python list\n",
    "savings_data = [total_crypto_wallet, total_stocks_bonds]\n",
    "\n",
    "# Review the Python list savings_data\n",
    "savings_data\n",
    "    "
   ]
  },
  {
   "cell_type": "markdown",
   "metadata": {},
   "source": [
    "#### Step 2: Use the `savings_data` list to create a Pandas DataFrame named `savings_df`, and then display this DataFrame. The function to create the DataFrame should take the following three parameters:\n",
    "\n",
    "- `savings_data`: Use the list that you just created.\n",
    "\n",
    "- `columns`: Set this parameter equal to a Python list with a single value called `amount`.\n",
    "\n",
    "- `index`: Set this parameter equal to a Python list with the values of `crypto` and `stock/bond`.\n"
   ]
  },
  {
   "cell_type": "code",
   "execution_count": 37,
   "metadata": {},
   "outputs": [
    {
     "data": {
      "text/html": [
       "<div>\n",
       "<style scoped>\n",
       "    .dataframe tbody tr th:only-of-type {\n",
       "        vertical-align: middle;\n",
       "    }\n",
       "\n",
       "    .dataframe tbody tr th {\n",
       "        vertical-align: top;\n",
       "    }\n",
       "\n",
       "    .dataframe thead th {\n",
       "        text-align: right;\n",
       "    }\n",
       "</style>\n",
       "<table border=\"1\" class=\"dataframe\">\n",
       "  <thead>\n",
       "    <tr style=\"text-align: right;\">\n",
       "      <th></th>\n",
       "      <th>amount</th>\n",
       "    </tr>\n",
       "  </thead>\n",
       "  <tbody>\n",
       "    <tr>\n",
       "      <th>crypto</th>\n",
       "      <td>63564.684</td>\n",
       "    </tr>\n",
       "    <tr>\n",
       "      <th>stock/bond</th>\n",
       "      <td>71523.900</td>\n",
       "    </tr>\n",
       "  </tbody>\n",
       "</table>\n",
       "</div>"
      ],
      "text/plain": [
       "               amount\n",
       "crypto      63564.684\n",
       "stock/bond  71523.900"
      ]
     },
     "execution_count": 37,
     "metadata": {},
     "output_type": "execute_result"
    }
   ],
   "source": [
    "# Create a Pandas DataFrame called savings_df \n",
    "savings_df = pd.DataFrame(savings_data, index=['crypto', 'stock/bond'], columns=['amount'])\n",
    "\n",
    "# Display the savings_df DataFrame\n",
    "savings_df\n"
   ]
  },
  {
   "cell_type": "markdown",
   "metadata": {},
   "source": [
    "#### Step 3: Use the `savings_df` DataFrame to plot a pie chart that visualizes the composition of the member’s portfolio. The y-axis of the pie chart uses `amount`. Be sure to add a title."
   ]
  },
  {
   "cell_type": "code",
   "execution_count": 48,
   "metadata": {},
   "outputs": [
    {
     "data": {
      "text/plain": [
       "<AxesSubplot:title={'center':'Total Savings'}, ylabel='amount'>"
      ]
     },
     "execution_count": 48,
     "metadata": {},
     "output_type": "execute_result"
    },
    {
     "data": {
      "image/png": "[encoded data removed]",
      "text/plain": [
       "<Figure size 432x288 with 1 Axes>"
      ]
     },
     "metadata": {},
     "output_type": "display_data"
    }
   ],
   "source": [
    "# Plot the total value of the member's portfolio (crypto and stock/bond) in a pie chart\n",
    "savings_df.amount.plot(kind='pie', title = 'Total Savings')\n"
   ]
  },
  {
   "cell_type": "markdown",
   "metadata": {},
   "source": [
    "#### Step 4: Using Python, determine if the current portfolio has enough to create an emergency fund as part of the member’s financial plan. Ideally, an emergency fund should equal to three times the member’s monthly income. To do this, implement the following steps:\n",
    "\n",
    "Step 1. Create a variable named `emergency_fund_value`, and set it equal to three times the value of the member’s `monthly_income` of 12000. (You set this earlier in Part 1).\n",
    "\n",
    "Step 2. Create a series of three if statements to determine if the member’s total portfolio is large enough to fund the emergency portfolio:\n",
    "\n",
    "* If the total portfolio value is greater than the emergency fund value, display a message congratulating the member for having enough money in this fund.\n",
    "\n",
    "* Else if the total portfolio value is equal to the emergency fund value, display a message congratulating the member on reaching this important financial goal.\n",
    "\n",
    "* Else the total portfolio is less than the emergency fund value, so display a message showing how many dollars away the member is from reaching the goal. (Subtract the total portfolio value from the emergency fund value.)\n"
   ]
  },
  {
   "cell_type": "markdown",
   "metadata": {},
   "source": [
    "##### Step 4-1: Create a variable named `emergency_fund_value`, and set it equal to three times the value of the member’s `monthly_income` of 12000. (You set this earlier in Part 1)."
   ]
  },
  {
   "cell_type": "code",
   "execution_count": 61,
   "metadata": {},
   "outputs": [],
   "source": [
    "# Create a variable named emergency_fund_value\n",
    "emergency_fund_value = 3 * monthly_income\n"
   ]
  },
  {
   "cell_type": "markdown",
   "metadata": {},
   "source": [
    "##### Step 4-2: Create a series of three if statements to determine if the member’s total portfolio is large enough to fund the emergency portfolio:\n",
    "\n",
    "* If the total portfolio value is greater than the emergency fund value, display a message congratulating the member for having enough money in this fund.\n",
    "\n",
    "* Else if the total portfolio value is equal to the emergency fund value, display a message congratulating the member on reaching this important financial goal.\n",
    "\n",
    "* Else the total portfolio is less than the emergency fund value, so display a message showing how many dollars away the member is from reaching the goal. (Subtract the total portfolio value from the emergency fund value.)"
   ]
  },
  {
   "cell_type": "code",
   "execution_count": 62,
   "metadata": {},
   "outputs": [
    {
     "name": "stdout",
     "output_type": "stream",
     "text": [
      "Congratulations!  You have enough money in this fund.\n"
     ]
    }
   ],
   "source": [
    "# Evaluate the possibility of creating an emergency fund with 3 conditions:\n",
    "if total_portfolio > emergency_fund_value :\n",
    "    print(\"Congratulations!  You have enough money in this fund.\")\n",
    "elif total_portfolio == emergency_fund_value :\n",
    "    print(\"Congratulations!  You have reached this important financial goal.\")\n",
    "else :\n",
    "    print(f\"You are ${emergency_fund_value - total_portfolio:,.2f} away from reaching the goal.\")"
   ]
  },
  {
   "cell_type": "markdown",
   "metadata": {},
   "source": [
    "## Part 2: Create a Financial Planner for Retirement"
   ]
  },
  {
   "cell_type": "markdown",
   "metadata": {},
   "source": [
    "### Create the Monte Carlo Simulation\n",
    "\n",
    "In this section, you’ll use the MCForecastTools library to create a Monte Carlo simulation for the member’s savings portfolio. To do this, complete the following steps:\n",
    "\n",
    "1. Make an API call via the Alpaca SDK to get 3 years of historical closing prices for a traditional 60/40 portfolio split: 60% stocks (SPY) and 40% bonds (AGG).\n",
    "\n",
    "2. Run a Monte Carlo simulation of 500 samples and 30 years for the 60/40 portfolio, and then plot the results.The following image shows the overlay line plot resulting from a simulation with these characteristics. However, because a random number generator is used to run each live Monte Carlo simulation, your image will differ slightly from this exact image:\n",
    "\n",
    "![A screenshot depicts the resulting plot.](Images/5-4-monte-carlo-line-plot.png)\n",
    "\n",
    "3. Plot the probability distribution of the Monte Carlo simulation. Plot the probability distribution of the Monte Carlo simulation. The following image shows the histogram plot resulting from a simulation with these characteristics. However, because a random number generator is used to run each live Monte Carlo simulation, your image will differ slightly from this exact image:\n",
    "\n",
    "![A screenshot depicts the histogram plot.](Images/5-4-monte-carlo-histogram.png)\n",
    "\n",
    "4. Generate the summary statistics for the Monte Carlo simulation.\n",
    "\n"
   ]
  },
  {
   "cell_type": "markdown",
   "metadata": {},
   "source": [
    "#### Step 1: Make an API call via the Alpaca SDK to get 3 years of historical closing prices for a traditional 60/40 portfolio split: 60% stocks (SPY) and 40% bonds (AGG)."
   ]
  },
  {
   "cell_type": "code",
   "execution_count": 63,
   "metadata": {},
   "outputs": [],
   "source": [
    "# Set start and end dates of 3 years back from your current date\n",
    "# Alternatively, you can use an end date of 2020-08-07 and work 3 years back from that date \n",
    "start_date = pd.Timestamp(\"2018-07-30\", tz=\"America/New_York\").isoformat()\n",
    "end_date = pd.Timestamp(\"2021-07-30\", tz=\"America/New_York\").isoformat()\n",
    "\n",
    "# Set number of rows to 1000 to retrieve the maximum amount of rows\n",
    "limit_rows = 1000"
   ]
  },
  {
   "cell_type": "code",
   "execution_count": 64,
   "metadata": {},
   "outputs": [
    {
     "data": {
      "text/html": [
       "<div>\n",
       "<style scoped>\n",
       "    .dataframe tbody tr th:only-of-type {\n",
       "        vertical-align: middle;\n",
       "    }\n",
       "\n",
       "    .dataframe tbody tr th {\n",
       "        vertical-align: top;\n",
       "    }\n",
       "\n",
       "    .dataframe thead tr th {\n",
       "        text-align: left;\n",
       "    }\n",
       "\n",
       "    .dataframe thead tr:last-of-type th {\n",
       "        text-align: right;\n",
       "    }\n",
       "</style>\n",
       "<table border=\"1\" class=\"dataframe\">\n",
       "  <thead>\n",
       "    <tr>\n",
       "      <th></th>\n",
       "      <th colspan=\"5\" halign=\"left\">AGG</th>\n",
       "      <th colspan=\"5\" halign=\"left\">SPY</th>\n",
       "    </tr>\n",
       "    <tr>\n",
       "      <th></th>\n",
       "      <th>open</th>\n",
       "      <th>high</th>\n",
       "      <th>low</th>\n",
       "      <th>close</th>\n",
       "      <th>volume</th>\n",
       "      <th>open</th>\n",
       "      <th>high</th>\n",
       "      <th>low</th>\n",
       "      <th>close</th>\n",
       "      <th>volume</th>\n",
       "    </tr>\n",
       "    <tr>\n",
       "      <th>time</th>\n",
       "      <th></th>\n",
       "      <th></th>\n",
       "      <th></th>\n",
       "      <th></th>\n",
       "      <th></th>\n",
       "      <th></th>\n",
       "      <th></th>\n",
       "      <th></th>\n",
       "      <th></th>\n",
       "      <th></th>\n",
       "    </tr>\n",
       "  </thead>\n",
       "  <tbody>\n",
       "    <tr>\n",
       "      <th>2018-07-30 00:00:00-04:00</th>\n",
       "      <td>105.94</td>\n",
       "      <td>106.0500</td>\n",
       "      <td>105.910</td>\n",
       "      <td>105.95</td>\n",
       "      <td>2784448.0</td>\n",
       "      <td>281.49</td>\n",
       "      <td>281.69</td>\n",
       "      <td>279.3600</td>\n",
       "      <td>279.89</td>\n",
       "      <td>46935673</td>\n",
       "    </tr>\n",
       "    <tr>\n",
       "      <th>2018-07-31 00:00:00-04:00</th>\n",
       "      <td>106.11</td>\n",
       "      <td>106.1756</td>\n",
       "      <td>106.050</td>\n",
       "      <td>106.06</td>\n",
       "      <td>4704161.0</td>\n",
       "      <td>280.81</td>\n",
       "      <td>282.02</td>\n",
       "      <td>280.3800</td>\n",
       "      <td>281.22</td>\n",
       "      <td>48645613</td>\n",
       "    </tr>\n",
       "    <tr>\n",
       "      <th>2018-08-01 00:00:00-04:00</th>\n",
       "      <td>105.55</td>\n",
       "      <td>105.7600</td>\n",
       "      <td>105.512</td>\n",
       "      <td>105.69</td>\n",
       "      <td>3896190.0</td>\n",
       "      <td>281.56</td>\n",
       "      <td>282.13</td>\n",
       "      <td>280.1315</td>\n",
       "      <td>280.92</td>\n",
       "      <td>40627557</td>\n",
       "    </tr>\n",
       "    <tr>\n",
       "      <th>2018-08-02 00:00:00-04:00</th>\n",
       "      <td>105.76</td>\n",
       "      <td>105.7600</td>\n",
       "      <td>105.650</td>\n",
       "      <td>105.73</td>\n",
       "      <td>2989387.0</td>\n",
       "      <td>279.38</td>\n",
       "      <td>282.58</td>\n",
       "      <td>279.1600</td>\n",
       "      <td>282.34</td>\n",
       "      <td>42491022</td>\n",
       "    </tr>\n",
       "    <tr>\n",
       "      <th>2018-08-03 00:00:00-04:00</th>\n",
       "      <td>105.81</td>\n",
       "      <td>105.9799</td>\n",
       "      <td>105.810</td>\n",
       "      <td>105.93</td>\n",
       "      <td>2286629.0</td>\n",
       "      <td>282.53</td>\n",
       "      <td>283.65</td>\n",
       "      <td>282.3300</td>\n",
       "      <td>283.64</td>\n",
       "      <td>34485363</td>\n",
       "    </tr>\n",
       "  </tbody>\n",
       "</table>\n",
       "</div>"
      ],
      "text/plain": [
       "                              AGG                                        \\\n",
       "                             open      high      low   close     volume   \n",
       "time                                                                      \n",
       "2018-07-30 00:00:00-04:00  105.94  106.0500  105.910  105.95  2784448.0   \n",
       "2018-07-31 00:00:00-04:00  106.11  106.1756  106.050  106.06  4704161.0   \n",
       "2018-08-01 00:00:00-04:00  105.55  105.7600  105.512  105.69  3896190.0   \n",
       "2018-08-02 00:00:00-04:00  105.76  105.7600  105.650  105.73  2989387.0   \n",
       "2018-08-03 00:00:00-04:00  105.81  105.9799  105.810  105.93  2286629.0   \n",
       "\n",
       "                              SPY                                      \n",
       "                             open    high       low   close    volume  \n",
       "time                                                                   \n",
       "2018-07-30 00:00:00-04:00  281.49  281.69  279.3600  279.89  46935673  \n",
       "2018-07-31 00:00:00-04:00  280.81  282.02  280.3800  281.22  48645613  \n",
       "2018-08-01 00:00:00-04:00  281.56  282.13  280.1315  280.92  40627557  \n",
       "2018-08-02 00:00:00-04:00  279.38  282.58  279.1600  282.34  42491022  \n",
       "2018-08-03 00:00:00-04:00  282.53  283.65  282.3300  283.64  34485363  "
      ]
     },
     "metadata": {},
     "output_type": "display_data"
    },
    {
     "data": {
      "text/html": [
       "<div>\n",
       "<style scoped>\n",
       "    .dataframe tbody tr th:only-of-type {\n",
       "        vertical-align: middle;\n",
       "    }\n",
       "\n",
       "    .dataframe tbody tr th {\n",
       "        vertical-align: top;\n",
       "    }\n",
       "\n",
       "    .dataframe thead tr th {\n",
       "        text-align: left;\n",
       "    }\n",
       "\n",
       "    .dataframe thead tr:last-of-type th {\n",
       "        text-align: right;\n",
       "    }\n",
       "</style>\n",
       "<table border=\"1\" class=\"dataframe\">\n",
       "  <thead>\n",
       "    <tr>\n",
       "      <th></th>\n",
       "      <th colspan=\"5\" halign=\"left\">AGG</th>\n",
       "      <th colspan=\"5\" halign=\"left\">SPY</th>\n",
       "    </tr>\n",
       "    <tr>\n",
       "      <th></th>\n",
       "      <th>open</th>\n",
       "      <th>high</th>\n",
       "      <th>low</th>\n",
       "      <th>close</th>\n",
       "      <th>volume</th>\n",
       "      <th>open</th>\n",
       "      <th>high</th>\n",
       "      <th>low</th>\n",
       "      <th>close</th>\n",
       "      <th>volume</th>\n",
       "    </tr>\n",
       "    <tr>\n",
       "      <th>time</th>\n",
       "      <th></th>\n",
       "      <th></th>\n",
       "      <th></th>\n",
       "      <th></th>\n",
       "      <th></th>\n",
       "      <th></th>\n",
       "      <th></th>\n",
       "      <th></th>\n",
       "      <th></th>\n",
       "      <th></th>\n",
       "    </tr>\n",
       "  </thead>\n",
       "  <tbody>\n",
       "    <tr>\n",
       "      <th>2021-07-26 00:00:00-04:00</th>\n",
       "      <td>116.30</td>\n",
       "      <td>116.330</td>\n",
       "      <td>116.0850</td>\n",
       "      <td>116.11</td>\n",
       "      <td>7028009.0</td>\n",
       "      <td>439.31</td>\n",
       "      <td>441.03</td>\n",
       "      <td>439.26</td>\n",
       "      <td>440.99</td>\n",
       "      <td>40155852</td>\n",
       "    </tr>\n",
       "    <tr>\n",
       "      <th>2021-07-27 00:00:00-04:00</th>\n",
       "      <td>116.35</td>\n",
       "      <td>116.400</td>\n",
       "      <td>116.2727</td>\n",
       "      <td>116.39</td>\n",
       "      <td>4669859.0</td>\n",
       "      <td>439.91</td>\n",
       "      <td>439.94</td>\n",
       "      <td>435.99</td>\n",
       "      <td>439.00</td>\n",
       "      <td>61032234</td>\n",
       "    </tr>\n",
       "    <tr>\n",
       "      <th>2021-07-28 00:00:00-04:00</th>\n",
       "      <td>116.24</td>\n",
       "      <td>116.490</td>\n",
       "      <td>116.1400</td>\n",
       "      <td>116.48</td>\n",
       "      <td>5189696.0</td>\n",
       "      <td>439.68</td>\n",
       "      <td>440.30</td>\n",
       "      <td>437.31</td>\n",
       "      <td>438.84</td>\n",
       "      <td>47642330</td>\n",
       "    </tr>\n",
       "    <tr>\n",
       "      <th>2021-07-29 00:00:00-04:00</th>\n",
       "      <td>116.29</td>\n",
       "      <td>116.360</td>\n",
       "      <td>116.2250</td>\n",
       "      <td>116.28</td>\n",
       "      <td>5216456.0</td>\n",
       "      <td>439.83</td>\n",
       "      <td>441.80</td>\n",
       "      <td>439.81</td>\n",
       "      <td>440.67</td>\n",
       "      <td>40930880</td>\n",
       "    </tr>\n",
       "    <tr>\n",
       "      <th>2021-07-30 00:00:00-04:00</th>\n",
       "      <td>116.36</td>\n",
       "      <td>116.485</td>\n",
       "      <td>116.3532</td>\n",
       "      <td>116.45</td>\n",
       "      <td>4859650.0</td>\n",
       "      <td>437.91</td>\n",
       "      <td>440.06</td>\n",
       "      <td>437.77</td>\n",
       "      <td>438.49</td>\n",
       "      <td>56594282</td>\n",
       "    </tr>\n",
       "  </tbody>\n",
       "</table>\n",
       "</div>"
      ],
      "text/plain": [
       "                              AGG                                        \\\n",
       "                             open     high       low   close     volume   \n",
       "time                                                                      \n",
       "2021-07-26 00:00:00-04:00  116.30  116.330  116.0850  116.11  7028009.0   \n",
       "2021-07-27 00:00:00-04:00  116.35  116.400  116.2727  116.39  4669859.0   \n",
       "2021-07-28 00:00:00-04:00  116.24  116.490  116.1400  116.48  5189696.0   \n",
       "2021-07-29 00:00:00-04:00  116.29  116.360  116.2250  116.28  5216456.0   \n",
       "2021-07-30 00:00:00-04:00  116.36  116.485  116.3532  116.45  4859650.0   \n",
       "\n",
       "                              SPY                                    \n",
       "                             open    high     low   close    volume  \n",
       "time                                                                 \n",
       "2021-07-26 00:00:00-04:00  439.31  441.03  439.26  440.99  40155852  \n",
       "2021-07-27 00:00:00-04:00  439.91  439.94  435.99  439.00  61032234  \n",
       "2021-07-28 00:00:00-04:00  439.68  440.30  437.31  438.84  47642330  \n",
       "2021-07-29 00:00:00-04:00  439.83  441.80  439.81  440.67  40930880  \n",
       "2021-07-30 00:00:00-04:00  437.91  440.06  437.77  438.49  56594282  "
      ]
     },
     "metadata": {},
     "output_type": "display_data"
    }
   ],
   "source": [
    "# Use the Alpaca get_barset function to make the API call to get the 3 years worth of pricing data\n",
    "# The tickers and timeframe parameters should have been set in Part 1 of this activity \n",
    "# The start and end dates should be updated with the information set above\n",
    "# Remember to add the df property to the end of the call so the response is returned as a DataFrame\n",
    "prices_df = alpaca.get_barset(\n",
    "  tickers,\n",
    "  timeframe,\n",
    "  start=start_date,\n",
    "  end=end_date,\n",
    "  limit=limit_rows\n",
    ").df\n",
    "\n",
    "\n",
    "# Display both the first and last five rows of the DataFrame\n",
    "display(prices_df.head())\n",
    "display(prices_df.tail())\n"
   ]
  },
  {
   "cell_type": "markdown",
   "metadata": {},
   "source": [
    "#### Step 2: Run a Monte Carlo simulation of 500 samples and 30 years for the 60/40 portfolio, and then plot the results."
   ]
  },
  {
   "cell_type": "code",
   "execution_count": 65,
   "metadata": {},
   "outputs": [
    {
     "data": {
      "text/html": [
       "<div>\n",
       "<style scoped>\n",
       "    .dataframe tbody tr th:only-of-type {\n",
       "        vertical-align: middle;\n",
       "    }\n",
       "\n",
       "    .dataframe tbody tr th {\n",
       "        vertical-align: top;\n",
       "    }\n",
       "\n",
       "    .dataframe thead tr th {\n",
       "        text-align: left;\n",
       "    }\n",
       "\n",
       "    .dataframe thead tr:last-of-type th {\n",
       "        text-align: right;\n",
       "    }\n",
       "</style>\n",
       "<table border=\"1\" class=\"dataframe\">\n",
       "  <thead>\n",
       "    <tr>\n",
       "      <th></th>\n",
       "      <th colspan=\"6\" halign=\"left\">AGG</th>\n",
       "      <th colspan=\"6\" halign=\"left\">SPY</th>\n",
       "    </tr>\n",
       "    <tr>\n",
       "      <th></th>\n",
       "      <th>open</th>\n",
       "      <th>high</th>\n",
       "      <th>low</th>\n",
       "      <th>close</th>\n",
       "      <th>volume</th>\n",
       "      <th>daily_return</th>\n",
       "      <th>open</th>\n",
       "      <th>high</th>\n",
       "      <th>low</th>\n",
       "      <th>close</th>\n",
       "      <th>volume</th>\n",
       "      <th>daily_return</th>\n",
       "    </tr>\n",
       "    <tr>\n",
       "      <th>time</th>\n",
       "      <th></th>\n",
       "      <th></th>\n",
       "      <th></th>\n",
       "      <th></th>\n",
       "      <th></th>\n",
       "      <th></th>\n",
       "      <th></th>\n",
       "      <th></th>\n",
       "      <th></th>\n",
       "      <th></th>\n",
       "      <th></th>\n",
       "      <th></th>\n",
       "    </tr>\n",
       "  </thead>\n",
       "  <tbody>\n",
       "    <tr>\n",
       "      <th>2018-07-30 00:00:00-04:00</th>\n",
       "      <td>105.94</td>\n",
       "      <td>106.0500</td>\n",
       "      <td>105.910</td>\n",
       "      <td>105.95</td>\n",
       "      <td>2784448.0</td>\n",
       "      <td>NaN</td>\n",
       "      <td>281.49</td>\n",
       "      <td>281.69</td>\n",
       "      <td>279.3600</td>\n",
       "      <td>279.89</td>\n",
       "      <td>46935673</td>\n",
       "      <td>NaN</td>\n",
       "    </tr>\n",
       "    <tr>\n",
       "      <th>2018-07-31 00:00:00-04:00</th>\n",
       "      <td>106.11</td>\n",
       "      <td>106.1756</td>\n",
       "      <td>106.050</td>\n",
       "      <td>106.06</td>\n",
       "      <td>4704161.0</td>\n",
       "      <td>0.001038</td>\n",
       "      <td>280.81</td>\n",
       "      <td>282.02</td>\n",
       "      <td>280.3800</td>\n",
       "      <td>281.22</td>\n",
       "      <td>48645613</td>\n",
       "      <td>0.004752</td>\n",
       "    </tr>\n",
       "    <tr>\n",
       "      <th>2018-08-01 00:00:00-04:00</th>\n",
       "      <td>105.55</td>\n",
       "      <td>105.7600</td>\n",
       "      <td>105.512</td>\n",
       "      <td>105.69</td>\n",
       "      <td>3896190.0</td>\n",
       "      <td>-0.003489</td>\n",
       "      <td>281.56</td>\n",
       "      <td>282.13</td>\n",
       "      <td>280.1315</td>\n",
       "      <td>280.92</td>\n",
       "      <td>40627557</td>\n",
       "      <td>-0.001067</td>\n",
       "    </tr>\n",
       "    <tr>\n",
       "      <th>2018-08-02 00:00:00-04:00</th>\n",
       "      <td>105.76</td>\n",
       "      <td>105.7600</td>\n",
       "      <td>105.650</td>\n",
       "      <td>105.73</td>\n",
       "      <td>2989387.0</td>\n",
       "      <td>0.000378</td>\n",
       "      <td>279.38</td>\n",
       "      <td>282.58</td>\n",
       "      <td>279.1600</td>\n",
       "      <td>282.34</td>\n",
       "      <td>42491022</td>\n",
       "      <td>0.005055</td>\n",
       "    </tr>\n",
       "    <tr>\n",
       "      <th>2018-08-03 00:00:00-04:00</th>\n",
       "      <td>105.81</td>\n",
       "      <td>105.9799</td>\n",
       "      <td>105.810</td>\n",
       "      <td>105.93</td>\n",
       "      <td>2286629.0</td>\n",
       "      <td>0.001892</td>\n",
       "      <td>282.53</td>\n",
       "      <td>283.65</td>\n",
       "      <td>282.3300</td>\n",
       "      <td>283.64</td>\n",
       "      <td>34485363</td>\n",
       "      <td>0.004604</td>\n",
       "    </tr>\n",
       "  </tbody>\n",
       "</table>\n",
       "</div>"
      ],
      "text/plain": [
       "                              AGG                                        \\\n",
       "                             open      high      low   close     volume   \n",
       "time                                                                      \n",
       "2018-07-30 00:00:00-04:00  105.94  106.0500  105.910  105.95  2784448.0   \n",
       "2018-07-31 00:00:00-04:00  106.11  106.1756  106.050  106.06  4704161.0   \n",
       "2018-08-01 00:00:00-04:00  105.55  105.7600  105.512  105.69  3896190.0   \n",
       "2018-08-02 00:00:00-04:00  105.76  105.7600  105.650  105.73  2989387.0   \n",
       "2018-08-03 00:00:00-04:00  105.81  105.9799  105.810  105.93  2286629.0   \n",
       "\n",
       "                                           SPY                            \\\n",
       "                          daily_return    open    high       low   close   \n",
       "time                                                                       \n",
       "2018-07-30 00:00:00-04:00          NaN  281.49  281.69  279.3600  279.89   \n",
       "2018-07-31 00:00:00-04:00     0.001038  280.81  282.02  280.3800  281.22   \n",
       "2018-08-01 00:00:00-04:00    -0.003489  281.56  282.13  280.1315  280.92   \n",
       "2018-08-02 00:00:00-04:00     0.000378  279.38  282.58  279.1600  282.34   \n",
       "2018-08-03 00:00:00-04:00     0.001892  282.53  283.65  282.3300  283.64   \n",
       "\n",
       "                                                  \n",
       "                             volume daily_return  \n",
       "time                                              \n",
       "2018-07-30 00:00:00-04:00  46935673          NaN  \n",
       "2018-07-31 00:00:00-04:00  48645613     0.004752  \n",
       "2018-08-01 00:00:00-04:00  40627557    -0.001067  \n",
       "2018-08-02 00:00:00-04:00  42491022     0.005055  \n",
       "2018-08-03 00:00:00-04:00  34485363     0.004604  "
      ]
     },
     "execution_count": 65,
     "metadata": {},
     "output_type": "execute_result"
    }
   ],
   "source": [
    "# Configure the Monte Carlo simulation to forecast 30 years cumulative returns\n",
    "# The weights should be split 40% to AGG and 60% to SPY.\n",
    "# Run 500 samples.\n",
    "MC_thirtyyear = MCSimulation(\n",
    "  portfolio_data = prices_df,\n",
    "  weights = [.40,.60],\n",
    "  num_simulation = 500,\n",
    "  num_trading_days = 252*30\n",
    ")\n",
    "\n",
    "# Review the simulation input data\n",
    "MC_thirtyyear.portfolio_data.head()\n"
   ]
  },
  {
   "cell_type": "code",
   "execution_count": 66,
   "metadata": {},
   "outputs": [
    {
     "name": "stdout",
     "output_type": "stream",
     "text": [
      "Running Monte Carlo simulation number 0.\n",
      "Running Monte Carlo simulation number 10.\n",
      "Running Monte Carlo simulation number 20.\n",
      "Running Monte Carlo simulation number 30.\n",
      "Running Monte Carlo simulation number 40.\n",
      "Running Monte Carlo simulation number 50.\n",
      "Running Monte Carlo simulation number 60.\n",
      "Running Monte Carlo simulation number 70.\n",
      "Running Monte Carlo simulation number 80.\n",
      "Running Monte Carlo simulation number 90.\n",
      "Running Monte Carlo simulation number 100.\n",
      "Running Monte Carlo simulation number 110.\n",
      "Running Monte Carlo simulation number 120.\n",
      "Running Monte Carlo simulation number 130.\n",
      "Running Monte Carlo simulation number 140.\n",
      "Running Monte Carlo simulation number 150.\n",
      "Running Monte Carlo simulation number 160.\n",
      "Running Monte Carlo simulation number 170.\n",
      "Running Monte Carlo simulation number 180.\n",
      "Running Monte Carlo simulation number 190.\n",
      "Running Monte Carlo simulation number 200.\n",
      "Running Monte Carlo simulation number 210.\n",
      "Running Monte Carlo simulation number 220.\n",
      "Running Monte Carlo simulation number 230.\n",
      "Running Monte Carlo simulation number 240.\n",
      "Running Monte Carlo simulation number 250.\n",
      "Running Monte Carlo simulation number 260.\n",
      "Running Monte Carlo simulation number 270.\n",
      "Running Monte Carlo simulation number 280.\n",
      "Running Monte Carlo simulation number 290.\n",
      "Running Monte Carlo simulation number 300.\n",
      "Running Monte Carlo simulation number 310.\n",
      "Running Monte Carlo simulation number 320.\n",
      "Running Monte Carlo simulation number 330.\n",
      "Running Monte Carlo simulation number 340.\n",
      "Running Monte Carlo simulation number 350.\n",
      "Running Monte Carlo simulation number 360.\n",
      "Running Monte Carlo simulation number 370.\n",
      "Running Monte Carlo simulation number 380.\n",
      "Running Monte Carlo simulation number 390.\n",
      "Running Monte Carlo simulation number 400.\n",
      "Running Monte Carlo simulation number 410.\n",
      "Running Monte Carlo simulation number 420.\n",
      "Running Monte Carlo simulation number 430.\n",
      "Running Monte Carlo simulation number 440.\n",
      "Running Monte Carlo simulation number 450.\n",
      "Running Monte Carlo simulation number 460.\n",
      "Running Monte Carlo simulation number 470.\n",
      "Running Monte Carlo simulation number 480.\n",
      "Running Monte Carlo simulation number 490.\n"
     ]
    },
    {
     "data": {
      "text/html": [
       "<div>\n",
       "<style scoped>\n",
       "    .dataframe tbody tr th:only-of-type {\n",
       "        vertical-align: middle;\n",
       "    }\n",
       "\n",
       "    .dataframe tbody tr th {\n",
       "        vertical-align: top;\n",
       "    }\n",
       "\n",
       "    .dataframe thead th {\n",
       "        text-align: right;\n",
       "    }\n",
       "</style>\n",
       "<table border=\"1\" class=\"dataframe\">\n",
       "  <thead>\n",
       "    <tr style=\"text-align: right;\">\n",
       "      <th></th>\n",
       "      <th>0</th>\n",
       "      <th>1</th>\n",
       "      <th>2</th>\n",
       "      <th>3</th>\n",
       "      <th>4</th>\n",
       "      <th>5</th>\n",
       "      <th>6</th>\n",
       "      <th>7</th>\n",
       "      <th>8</th>\n",
       "      <th>9</th>\n",
       "      <th>...</th>\n",
       "      <th>490</th>\n",
       "      <th>491</th>\n",
       "      <th>492</th>\n",
       "      <th>493</th>\n",
       "      <th>494</th>\n",
       "      <th>495</th>\n",
       "      <th>496</th>\n",
       "      <th>497</th>\n",
       "      <th>498</th>\n",
       "      <th>499</th>\n",
       "    </tr>\n",
       "  </thead>\n",
       "  <tbody>\n",
       "    <tr>\n",
       "      <th>0</th>\n",
       "      <td>1.000000</td>\n",
       "      <td>1.000000</td>\n",
       "      <td>1.000000</td>\n",
       "      <td>1.000000</td>\n",
       "      <td>1.000000</td>\n",
       "      <td>1.000000</td>\n",
       "      <td>1.000000</td>\n",
       "      <td>1.000000</td>\n",
       "      <td>1.000000</td>\n",
       "      <td>1.000000</td>\n",
       "      <td>...</td>\n",
       "      <td>1.000000</td>\n",
       "      <td>1.000000</td>\n",
       "      <td>1.000000</td>\n",
       "      <td>1.000000</td>\n",
       "      <td>1.000000</td>\n",
       "      <td>1.000000</td>\n",
       "      <td>1.000000</td>\n",
       "      <td>1.000000</td>\n",
       "      <td>1.000000</td>\n",
       "      <td>1.000000</td>\n",
       "    </tr>\n",
       "    <tr>\n",
       "      <th>1</th>\n",
       "      <td>0.993210</td>\n",
       "      <td>1.012970</td>\n",
       "      <td>1.000110</td>\n",
       "      <td>0.999103</td>\n",
       "      <td>1.011680</td>\n",
       "      <td>0.994002</td>\n",
       "      <td>0.983923</td>\n",
       "      <td>0.995875</td>\n",
       "      <td>0.995456</td>\n",
       "      <td>0.997318</td>\n",
       "      <td>...</td>\n",
       "      <td>1.010733</td>\n",
       "      <td>1.007176</td>\n",
       "      <td>1.000122</td>\n",
       "      <td>1.006510</td>\n",
       "      <td>1.003750</td>\n",
       "      <td>0.999249</td>\n",
       "      <td>1.001861</td>\n",
       "      <td>1.001501</td>\n",
       "      <td>1.005156</td>\n",
       "      <td>1.000063</td>\n",
       "    </tr>\n",
       "    <tr>\n",
       "      <th>2</th>\n",
       "      <td>1.011573</td>\n",
       "      <td>1.006542</td>\n",
       "      <td>0.998124</td>\n",
       "      <td>0.992302</td>\n",
       "      <td>1.003676</td>\n",
       "      <td>0.993581</td>\n",
       "      <td>0.981309</td>\n",
       "      <td>1.000460</td>\n",
       "      <td>0.991941</td>\n",
       "      <td>0.999459</td>\n",
       "      <td>...</td>\n",
       "      <td>1.017859</td>\n",
       "      <td>1.010250</td>\n",
       "      <td>1.001508</td>\n",
       "      <td>1.023176</td>\n",
       "      <td>1.003686</td>\n",
       "      <td>0.984809</td>\n",
       "      <td>1.000334</td>\n",
       "      <td>0.994047</td>\n",
       "      <td>0.987993</td>\n",
       "      <td>0.994406</td>\n",
       "    </tr>\n",
       "    <tr>\n",
       "      <th>3</th>\n",
       "      <td>1.012181</td>\n",
       "      <td>1.006033</td>\n",
       "      <td>0.995440</td>\n",
       "      <td>0.985121</td>\n",
       "      <td>0.998053</td>\n",
       "      <td>0.992445</td>\n",
       "      <td>0.974010</td>\n",
       "      <td>1.018654</td>\n",
       "      <td>0.996227</td>\n",
       "      <td>0.992953</td>\n",
       "      <td>...</td>\n",
       "      <td>1.012671</td>\n",
       "      <td>1.010858</td>\n",
       "      <td>0.990416</td>\n",
       "      <td>1.027913</td>\n",
       "      <td>0.996975</td>\n",
       "      <td>0.976639</td>\n",
       "      <td>0.998707</td>\n",
       "      <td>0.998603</td>\n",
       "      <td>0.986281</td>\n",
       "      <td>0.992182</td>\n",
       "    </tr>\n",
       "    <tr>\n",
       "      <th>4</th>\n",
       "      <td>1.024594</td>\n",
       "      <td>1.019615</td>\n",
       "      <td>1.006090</td>\n",
       "      <td>0.982538</td>\n",
       "      <td>0.987236</td>\n",
       "      <td>0.994980</td>\n",
       "      <td>0.985187</td>\n",
       "      <td>1.006856</td>\n",
       "      <td>1.003682</td>\n",
       "      <td>1.001142</td>\n",
       "      <td>...</td>\n",
       "      <td>1.013656</td>\n",
       "      <td>1.007268</td>\n",
       "      <td>0.997940</td>\n",
       "      <td>1.029174</td>\n",
       "      <td>0.995675</td>\n",
       "      <td>0.959267</td>\n",
       "      <td>0.982210</td>\n",
       "      <td>1.003229</td>\n",
       "      <td>0.996587</td>\n",
       "      <td>0.982114</td>\n",
       "    </tr>\n",
       "    <tr>\n",
       "      <th>...</th>\n",
       "      <td>...</td>\n",
       "      <td>...</td>\n",
       "      <td>...</td>\n",
       "      <td>...</td>\n",
       "      <td>...</td>\n",
       "      <td>...</td>\n",
       "      <td>...</td>\n",
       "      <td>...</td>\n",
       "      <td>...</td>\n",
       "      <td>...</td>\n",
       "      <td>...</td>\n",
       "      <td>...</td>\n",
       "      <td>...</td>\n",
       "      <td>...</td>\n",
       "      <td>...</td>\n",
       "      <td>...</td>\n",
       "      <td>...</td>\n",
       "      <td>...</td>\n",
       "      <td>...</td>\n",
       "      <td>...</td>\n",
       "      <td>...</td>\n",
       "    </tr>\n",
       "    <tr>\n",
       "      <th>7556</th>\n",
       "      <td>41.626524</td>\n",
       "      <td>59.470735</td>\n",
       "      <td>6.813081</td>\n",
       "      <td>41.929043</td>\n",
       "      <td>48.414534</td>\n",
       "      <td>56.320242</td>\n",
       "      <td>21.474198</td>\n",
       "      <td>18.404296</td>\n",
       "      <td>25.758807</td>\n",
       "      <td>38.764739</td>\n",
       "      <td>...</td>\n",
       "      <td>15.049656</td>\n",
       "      <td>22.275795</td>\n",
       "      <td>21.829940</td>\n",
       "      <td>15.051530</td>\n",
       "      <td>39.243561</td>\n",
       "      <td>6.466178</td>\n",
       "      <td>31.920089</td>\n",
       "      <td>51.900368</td>\n",
       "      <td>6.368642</td>\n",
       "      <td>15.930025</td>\n",
       "    </tr>\n",
       "    <tr>\n",
       "      <th>7557</th>\n",
       "      <td>41.829537</td>\n",
       "      <td>60.072473</td>\n",
       "      <td>6.801909</td>\n",
       "      <td>42.198624</td>\n",
       "      <td>47.263802</td>\n",
       "      <td>56.353915</td>\n",
       "      <td>21.616927</td>\n",
       "      <td>18.407932</td>\n",
       "      <td>25.950069</td>\n",
       "      <td>39.292125</td>\n",
       "      <td>...</td>\n",
       "      <td>15.015173</td>\n",
       "      <td>22.114986</td>\n",
       "      <td>21.625559</td>\n",
       "      <td>14.968461</td>\n",
       "      <td>39.405922</td>\n",
       "      <td>6.396855</td>\n",
       "      <td>31.851612</td>\n",
       "      <td>51.257784</td>\n",
       "      <td>6.415732</td>\n",
       "      <td>16.041031</td>\n",
       "    </tr>\n",
       "    <tr>\n",
       "      <th>7558</th>\n",
       "      <td>42.020351</td>\n",
       "      <td>60.782972</td>\n",
       "      <td>6.840755</td>\n",
       "      <td>41.971896</td>\n",
       "      <td>47.251101</td>\n",
       "      <td>56.851711</td>\n",
       "      <td>21.745759</td>\n",
       "      <td>18.430978</td>\n",
       "      <td>25.544327</td>\n",
       "      <td>40.240807</td>\n",
       "      <td>...</td>\n",
       "      <td>14.964473</td>\n",
       "      <td>22.449347</td>\n",
       "      <td>21.705704</td>\n",
       "      <td>14.940574</td>\n",
       "      <td>39.287411</td>\n",
       "      <td>6.428185</td>\n",
       "      <td>31.308810</td>\n",
       "      <td>51.111587</td>\n",
       "      <td>6.433231</td>\n",
       "      <td>15.601813</td>\n",
       "    </tr>\n",
       "    <tr>\n",
       "      <th>7559</th>\n",
       "      <td>42.047487</td>\n",
       "      <td>60.845590</td>\n",
       "      <td>6.828969</td>\n",
       "      <td>41.856032</td>\n",
       "      <td>46.837386</td>\n",
       "      <td>56.678542</td>\n",
       "      <td>22.123610</td>\n",
       "      <td>18.450097</td>\n",
       "      <td>25.484490</td>\n",
       "      <td>39.875616</td>\n",
       "      <td>...</td>\n",
       "      <td>14.762506</td>\n",
       "      <td>22.644002</td>\n",
       "      <td>21.586451</td>\n",
       "      <td>15.138658</td>\n",
       "      <td>39.347577</td>\n",
       "      <td>6.337725</td>\n",
       "      <td>31.264708</td>\n",
       "      <td>51.682583</td>\n",
       "      <td>6.454563</td>\n",
       "      <td>15.630532</td>\n",
       "    </tr>\n",
       "    <tr>\n",
       "      <th>7560</th>\n",
       "      <td>42.159916</td>\n",
       "      <td>59.855639</td>\n",
       "      <td>6.887446</td>\n",
       "      <td>41.071562</td>\n",
       "      <td>46.899915</td>\n",
       "      <td>56.516542</td>\n",
       "      <td>21.952625</td>\n",
       "      <td>18.640835</td>\n",
       "      <td>25.842006</td>\n",
       "      <td>39.638608</td>\n",
       "      <td>...</td>\n",
       "      <td>14.862556</td>\n",
       "      <td>23.092265</td>\n",
       "      <td>21.472468</td>\n",
       "      <td>14.938070</td>\n",
       "      <td>39.561999</td>\n",
       "      <td>6.254267</td>\n",
       "      <td>31.091812</td>\n",
       "      <td>51.255427</td>\n",
       "      <td>6.634185</td>\n",
       "      <td>15.627559</td>\n",
       "    </tr>\n",
       "  </tbody>\n",
       "</table>\n",
       "<p>7561 rows × 500 columns</p>\n",
       "</div>"
      ],
      "text/plain": [
       "            0          1         2          3          4          5    \\\n",
       "0      1.000000   1.000000  1.000000   1.000000   1.000000   1.000000   \n",
       "1      0.993210   1.012970  1.000110   0.999103   1.011680   0.994002   \n",
       "2      1.011573   1.006542  0.998124   0.992302   1.003676   0.993581   \n",
       "3      1.012181   1.006033  0.995440   0.985121   0.998053   0.992445   \n",
       "4      1.024594   1.019615  1.006090   0.982538   0.987236   0.994980   \n",
       "...         ...        ...       ...        ...        ...        ...   \n",
       "7556  41.626524  59.470735  6.813081  41.929043  48.414534  56.320242   \n",
       "7557  41.829537  60.072473  6.801909  42.198624  47.263802  56.353915   \n",
       "7558  42.020351  60.782972  6.840755  41.971896  47.251101  56.851711   \n",
       "7559  42.047487  60.845590  6.828969  41.856032  46.837386  56.678542   \n",
       "7560  42.159916  59.855639  6.887446  41.071562  46.899915  56.516542   \n",
       "\n",
       "            6          7          8          9    ...        490        491  \\\n",
       "0      1.000000   1.000000   1.000000   1.000000  ...   1.000000   1.000000   \n",
       "1      0.983923   0.995875   0.995456   0.997318  ...   1.010733   1.007176   \n",
       "2      0.981309   1.000460   0.991941   0.999459  ...   1.017859   1.010250   \n",
       "3      0.974010   1.018654   0.996227   0.992953  ...   1.012671   1.010858   \n",
       "4      0.985187   1.006856   1.003682   1.001142  ...   1.013656   1.007268   \n",
       "...         ...        ...        ...        ...  ...        ...        ...   \n",
       "7556  21.474198  18.404296  25.758807  38.764739  ...  15.049656  22.275795   \n",
       "7557  21.616927  18.407932  25.950069  39.292125  ...  15.015173  22.114986   \n",
       "7558  21.745759  18.430978  25.544327  40.240807  ...  14.964473  22.449347   \n",
       "7559  22.123610  18.450097  25.484490  39.875616  ...  14.762506  22.644002   \n",
       "7560  21.952625  18.640835  25.842006  39.638608  ...  14.862556  23.092265   \n",
       "\n",
       "            492        493        494       495        496        497  \\\n",
       "0      1.000000   1.000000   1.000000  1.000000   1.000000   1.000000   \n",
       "1      1.000122   1.006510   1.003750  0.999249   1.001861   1.001501   \n",
       "2      1.001508   1.023176   1.003686  0.984809   1.000334   0.994047   \n",
       "3      0.990416   1.027913   0.996975  0.976639   0.998707   0.998603   \n",
       "4      0.997940   1.029174   0.995675  0.959267   0.982210   1.003229   \n",
       "...         ...        ...        ...       ...        ...        ...   \n",
       "7556  21.829940  15.051530  39.243561  6.466178  31.920089  51.900368   \n",
       "7557  21.625559  14.968461  39.405922  6.396855  31.851612  51.257784   \n",
       "7558  21.705704  14.940574  39.287411  6.428185  31.308810  51.111587   \n",
       "7559  21.586451  15.138658  39.347577  6.337725  31.264708  51.682583   \n",
       "7560  21.472468  14.938070  39.561999  6.254267  31.091812  51.255427   \n",
       "\n",
       "           498        499  \n",
       "0     1.000000   1.000000  \n",
       "1     1.005156   1.000063  \n",
       "2     0.987993   0.994406  \n",
       "3     0.986281   0.992182  \n",
       "4     0.996587   0.982114  \n",
       "...        ...        ...  \n",
       "7556  6.368642  15.930025  \n",
       "7557  6.415732  16.041031  \n",
       "7558  6.433231  15.601813  \n",
       "7559  6.454563  15.630532  \n",
       "7560  6.634185  15.627559  \n",
       "\n",
       "[7561 rows x 500 columns]"
      ]
     },
     "execution_count": 66,
     "metadata": {},
     "output_type": "execute_result"
    }
   ],
   "source": [
    "# Run the Monte Carlo simulation to forecast 30 years cumulative returns\n",
    "MC_thirtyyear.calc_cumulative_return()\n"
   ]
  },
  {
   "cell_type": "code",
   "execution_count": 67,
   "metadata": {},
   "outputs": [
    {
     "data": {
      "image/png": "[encoded data removed]",
      "text/plain": [
       "<Figure size 432x288 with 1 Axes>"
      ]
     },
     "metadata": {
      "needs_background": "light"
     },
     "output_type": "display_data"
    }
   ],
   "source": [
    "# Visualize the 30-year Monte Carlo simulation by creating an\n",
    "# overlay line plot\n",
    "MC_sim_line_plot = MC_thirtyyear.plot_simulation()\n"
   ]
  },
  {
   "cell_type": "markdown",
   "metadata": {},
   "source": [
    "#### Step 3: Plot the probability distribution of the Monte Carlo simulation."
   ]
  },
  {
   "cell_type": "code",
   "execution_count": 68,
   "metadata": {},
   "outputs": [
    {
     "data": {
      "image/png": "[encoded data removed]",
      "text/plain": [
       "<Figure size 432x288 with 1 Axes>"
      ]
     },
     "metadata": {
      "needs_background": "light"
     },
     "output_type": "display_data"
    }
   ],
   "source": [
    "# Visualize the probability distribution of the 30-year Monte Carlo simulation \n",
    "# by plotting a histogram\n",
    "MC_sim_dist_plot = MC_thirtyyear.plot_distribution()\n"
   ]
  },
  {
   "cell_type": "markdown",
   "metadata": {},
   "source": [
    "#### Step 4: Generate the summary statistics for the Monte Carlo simulation."
   ]
  },
  {
   "cell_type": "code",
   "execution_count": 69,
   "metadata": {},
   "outputs": [
    {
     "name": "stdout",
     "output_type": "stream",
     "text": [
      "count           500.000000\n",
      "mean             33.464581\n",
      "std              27.240758\n",
      "min               3.394392\n",
      "25%              15.581631\n",
      "50%              26.584846\n",
      "75%              42.369103\n",
      "max             234.556141\n",
      "95% CI Lower      6.459980\n",
      "95% CI Upper    103.950860\n",
      "Name: 7560, dtype: float64\n"
     ]
    }
   ],
   "source": [
    "# Generate summary statistics from the 30-year Monte Carlo simulation results\n",
    "# Save the results as a variable\n",
    "MC_summary_statistics = MC_thirtyyear.summarize_cumulative_return()\n",
    "\n",
    "\n",
    "# Review the 30-year Monte Carlo summary statistics\n",
    "print(MC_summary_statistics)"
   ]
  },
  {
   "cell_type": "markdown",
   "metadata": {},
   "source": [
    "### Analyze the Retirement Portfolio Forecasts\n",
    "\n",
    "Using the current value of only the stock and bond portion of the member's portfolio and the summary statistics that you generated from the Monte Carlo simulation, answer the following question in your Jupyter notebook:\n",
    "\n",
    "-  What are the lower and upper bounds for the expected value of the portfolio with a 95% confidence interval?\n"
   ]
  },
  {
   "cell_type": "code",
   "execution_count": 70,
   "metadata": {},
   "outputs": [
    {
     "name": "stdout",
     "output_type": "stream",
     "text": [
      "The current balance of the stock and bond portion of the portfolio is $71,523.90\n"
     ]
    }
   ],
   "source": [
    "# Print the current balance of the stock and bond portion of the members portfolio\n",
    "print(f\"The current balance of the stock and bond portion of the portfolio is ${total_stocks_bonds:,.2f}\")\n"
   ]
  },
  {
   "cell_type": "code",
   "execution_count": 73,
   "metadata": {},
   "outputs": [
    {
     "name": "stdout",
     "output_type": "stream",
     "text": [
      "There is a 95% chance that the portfolio over the next 30 years will end within in the range of $462,042.97 and $7,434,970.94.\n"
     ]
    }
   ],
   "source": [
    "# Use the lower and upper `95%` confidence intervals to calculate the range of the possible outcomes for the current stock/bond portfolio\n",
    "ci_lower_thirty_cumulative_return = MC_summary_statistics[8]*total_stocks_bonds\n",
    "ci_upper_thirty_cumulative_return = MC_summary_statistics[9]*total_stocks_bonds\n",
    "\n",
    "# Print the result of your calculations\n",
    "print(f\"There is a 95% chance that the portfolio over the next 30 years will end within in the range of ${ci_lower_thirty_cumulative_return:,.2f} and ${ci_upper_thirty_cumulative_return:,.2f}.\")\n"
   ]
  },
  {
   "cell_type": "markdown",
   "metadata": {},
   "source": [
    "### Forecast Cumulative Returns in 10 Years\n",
    "\n",
    "The CTO of the credit union is impressed with your work on these planning tools but wonders if 30 years is a long time to wait until retirement. So, your next task is to adjust the retirement portfolio and run a new Monte Carlo simulation to find out if the changes will allow members to retire earlier.\n",
    "\n",
    "For this new Monte Carlo simulation, do the following: \n",
    "\n",
    "- Forecast the cumulative returns for 10 years from now. Because of the shortened investment horizon (30 years to 10 years), the portfolio needs to invest more heavily in the riskier asset&mdash;that is, stock&mdash;to help accumulate wealth for retirement. \n",
    "\n",
    "- Adjust the weights of the retirement portfolio so that the composition for the Monte Carlo simulation consists of 20% bonds and 80% stocks. \n",
    "\n",
    "- Run the simulation over 500 samples, and use the same data that the API call to Alpaca generated.\n",
    "\n",
    "- Based on the new Monte Carlo simulation, answer the following questions in your Jupyter notebook:\n",
    "\n",
    "    - Using the current value of only the stock and bond portion of the member's portfolio and the summary statistics that you generated from the new Monte Carlo simulation, what are the lower and upper bounds for the expected value of the portfolio (with the new weights) with a 95% confidence interval?\n",
    "\n",
    "    - Will weighting the portfolio more heavily toward stocks allow the credit union members to retire after only 10 years?\n"
   ]
  },
  {
   "cell_type": "code",
   "execution_count": 74,
   "metadata": {},
   "outputs": [
    {
     "data": {
      "text/html": [
       "<div>\n",
       "<style scoped>\n",
       "    .dataframe tbody tr th:only-of-type {\n",
       "        vertical-align: middle;\n",
       "    }\n",
       "\n",
       "    .dataframe tbody tr th {\n",
       "        vertical-align: top;\n",
       "    }\n",
       "\n",
       "    .dataframe thead tr th {\n",
       "        text-align: left;\n",
       "    }\n",
       "\n",
       "    .dataframe thead tr:last-of-type th {\n",
       "        text-align: right;\n",
       "    }\n",
       "</style>\n",
       "<table border=\"1\" class=\"dataframe\">\n",
       "  <thead>\n",
       "    <tr>\n",
       "      <th></th>\n",
       "      <th colspan=\"6\" halign=\"left\">AGG</th>\n",
       "      <th colspan=\"6\" halign=\"left\">SPY</th>\n",
       "    </tr>\n",
       "    <tr>\n",
       "      <th></th>\n",
       "      <th>open</th>\n",
       "      <th>high</th>\n",
       "      <th>low</th>\n",
       "      <th>close</th>\n",
       "      <th>volume</th>\n",
       "      <th>daily_return</th>\n",
       "      <th>open</th>\n",
       "      <th>high</th>\n",
       "      <th>low</th>\n",
       "      <th>close</th>\n",
       "      <th>volume</th>\n",
       "      <th>daily_return</th>\n",
       "    </tr>\n",
       "    <tr>\n",
       "      <th>time</th>\n",
       "      <th></th>\n",
       "      <th></th>\n",
       "      <th></th>\n",
       "      <th></th>\n",
       "      <th></th>\n",
       "      <th></th>\n",
       "      <th></th>\n",
       "      <th></th>\n",
       "      <th></th>\n",
       "      <th></th>\n",
       "      <th></th>\n",
       "      <th></th>\n",
       "    </tr>\n",
       "  </thead>\n",
       "  <tbody>\n",
       "    <tr>\n",
       "      <th>2018-07-30 00:00:00-04:00</th>\n",
       "      <td>105.94</td>\n",
       "      <td>106.0500</td>\n",
       "      <td>105.910</td>\n",
       "      <td>105.95</td>\n",
       "      <td>2784448.0</td>\n",
       "      <td>NaN</td>\n",
       "      <td>281.49</td>\n",
       "      <td>281.69</td>\n",
       "      <td>279.3600</td>\n",
       "      <td>279.89</td>\n",
       "      <td>46935673</td>\n",
       "      <td>NaN</td>\n",
       "    </tr>\n",
       "    <tr>\n",
       "      <th>2018-07-31 00:00:00-04:00</th>\n",
       "      <td>106.11</td>\n",
       "      <td>106.1756</td>\n",
       "      <td>106.050</td>\n",
       "      <td>106.06</td>\n",
       "      <td>4704161.0</td>\n",
       "      <td>0.001038</td>\n",
       "      <td>280.81</td>\n",
       "      <td>282.02</td>\n",
       "      <td>280.3800</td>\n",
       "      <td>281.22</td>\n",
       "      <td>48645613</td>\n",
       "      <td>0.004752</td>\n",
       "    </tr>\n",
       "    <tr>\n",
       "      <th>2018-08-01 00:00:00-04:00</th>\n",
       "      <td>105.55</td>\n",
       "      <td>105.7600</td>\n",
       "      <td>105.512</td>\n",
       "      <td>105.69</td>\n",
       "      <td>3896190.0</td>\n",
       "      <td>-0.003489</td>\n",
       "      <td>281.56</td>\n",
       "      <td>282.13</td>\n",
       "      <td>280.1315</td>\n",
       "      <td>280.92</td>\n",
       "      <td>40627557</td>\n",
       "      <td>-0.001067</td>\n",
       "    </tr>\n",
       "    <tr>\n",
       "      <th>2018-08-02 00:00:00-04:00</th>\n",
       "      <td>105.76</td>\n",
       "      <td>105.7600</td>\n",
       "      <td>105.650</td>\n",
       "      <td>105.73</td>\n",
       "      <td>2989387.0</td>\n",
       "      <td>0.000378</td>\n",
       "      <td>279.38</td>\n",
       "      <td>282.58</td>\n",
       "      <td>279.1600</td>\n",
       "      <td>282.34</td>\n",
       "      <td>42491022</td>\n",
       "      <td>0.005055</td>\n",
       "    </tr>\n",
       "    <tr>\n",
       "      <th>2018-08-03 00:00:00-04:00</th>\n",
       "      <td>105.81</td>\n",
       "      <td>105.9799</td>\n",
       "      <td>105.810</td>\n",
       "      <td>105.93</td>\n",
       "      <td>2286629.0</td>\n",
       "      <td>0.001892</td>\n",
       "      <td>282.53</td>\n",
       "      <td>283.65</td>\n",
       "      <td>282.3300</td>\n",
       "      <td>283.64</td>\n",
       "      <td>34485363</td>\n",
       "      <td>0.004604</td>\n",
       "    </tr>\n",
       "  </tbody>\n",
       "</table>\n",
       "</div>"
      ],
      "text/plain": [
       "                              AGG                                        \\\n",
       "                             open      high      low   close     volume   \n",
       "time                                                                      \n",
       "2018-07-30 00:00:00-04:00  105.94  106.0500  105.910  105.95  2784448.0   \n",
       "2018-07-31 00:00:00-04:00  106.11  106.1756  106.050  106.06  4704161.0   \n",
       "2018-08-01 00:00:00-04:00  105.55  105.7600  105.512  105.69  3896190.0   \n",
       "2018-08-02 00:00:00-04:00  105.76  105.7600  105.650  105.73  2989387.0   \n",
       "2018-08-03 00:00:00-04:00  105.81  105.9799  105.810  105.93  2286629.0   \n",
       "\n",
       "                                           SPY                            \\\n",
       "                          daily_return    open    high       low   close   \n",
       "time                                                                       \n",
       "2018-07-30 00:00:00-04:00          NaN  281.49  281.69  279.3600  279.89   \n",
       "2018-07-31 00:00:00-04:00     0.001038  280.81  282.02  280.3800  281.22   \n",
       "2018-08-01 00:00:00-04:00    -0.003489  281.56  282.13  280.1315  280.92   \n",
       "2018-08-02 00:00:00-04:00     0.000378  279.38  282.58  279.1600  282.34   \n",
       "2018-08-03 00:00:00-04:00     0.001892  282.53  283.65  282.3300  283.64   \n",
       "\n",
       "                                                  \n",
       "                             volume daily_return  \n",
       "time                                              \n",
       "2018-07-30 00:00:00-04:00  46935673          NaN  \n",
       "2018-07-31 00:00:00-04:00  48645613     0.004752  \n",
       "2018-08-01 00:00:00-04:00  40627557    -0.001067  \n",
       "2018-08-02 00:00:00-04:00  42491022     0.005055  \n",
       "2018-08-03 00:00:00-04:00  34485363     0.004604  "
      ]
     },
     "execution_count": 74,
     "metadata": {},
     "output_type": "execute_result"
    }
   ],
   "source": [
    "# Configure a Monte Carlo simulation to forecast 10 years cumulative returns\n",
    "# The weights should be split 20% to AGG and 80% to SPY.\n",
    "# Run 500 samples.\n",
    "MC_tenyear = MCSimulation(\n",
    "  portfolio_data = prices_df,\n",
    "  weights = [.20,.80],\n",
    "  num_simulation = 500,\n",
    "  num_trading_days = 252*10\n",
    ")\n",
    "\n",
    "# Review the simulation input data\n",
    "MC_tenyear.portfolio_data.head()\n"
   ]
  },
  {
   "cell_type": "code",
   "execution_count": 75,
   "metadata": {},
   "outputs": [
    {
     "name": "stdout",
     "output_type": "stream",
     "text": [
      "Running Monte Carlo simulation number 0.\n",
      "Running Monte Carlo simulation number 10.\n",
      "Running Monte Carlo simulation number 20.\n",
      "Running Monte Carlo simulation number 30.\n",
      "Running Monte Carlo simulation number 40.\n",
      "Running Monte Carlo simulation number 50.\n",
      "Running Monte Carlo simulation number 60.\n",
      "Running Monte Carlo simulation number 70.\n",
      "Running Monte Carlo simulation number 80.\n",
      "Running Monte Carlo simulation number 90.\n",
      "Running Monte Carlo simulation number 100.\n",
      "Running Monte Carlo simulation number 110.\n",
      "Running Monte Carlo simulation number 120.\n",
      "Running Monte Carlo simulation number 130.\n",
      "Running Monte Carlo simulation number 140.\n",
      "Running Monte Carlo simulation number 150.\n",
      "Running Monte Carlo simulation number 160.\n",
      "Running Monte Carlo simulation number 170.\n",
      "Running Monte Carlo simulation number 180.\n",
      "Running Monte Carlo simulation number 190.\n",
      "Running Monte Carlo simulation number 200.\n",
      "Running Monte Carlo simulation number 210.\n",
      "Running Monte Carlo simulation number 220.\n",
      "Running Monte Carlo simulation number 230.\n",
      "Running Monte Carlo simulation number 240.\n",
      "Running Monte Carlo simulation number 250.\n",
      "Running Monte Carlo simulation number 260.\n",
      "Running Monte Carlo simulation number 270.\n",
      "Running Monte Carlo simulation number 280.\n",
      "Running Monte Carlo simulation number 290.\n",
      "Running Monte Carlo simulation number 300.\n",
      "Running Monte Carlo simulation number 310.\n",
      "Running Monte Carlo simulation number 320.\n",
      "Running Monte Carlo simulation number 330.\n",
      "Running Monte Carlo simulation number 340.\n",
      "Running Monte Carlo simulation number 350.\n",
      "Running Monte Carlo simulation number 360.\n",
      "Running Monte Carlo simulation number 370.\n",
      "Running Monte Carlo simulation number 380.\n",
      "Running Monte Carlo simulation number 390.\n",
      "Running Monte Carlo simulation number 400.\n",
      "Running Monte Carlo simulation number 410.\n",
      "Running Monte Carlo simulation number 420.\n",
      "Running Monte Carlo simulation number 430.\n",
      "Running Monte Carlo simulation number 440.\n",
      "Running Monte Carlo simulation number 450.\n",
      "Running Monte Carlo simulation number 460.\n",
      "Running Monte Carlo simulation number 470.\n",
      "Running Monte Carlo simulation number 480.\n",
      "Running Monte Carlo simulation number 490.\n"
     ]
    },
    {
     "data": {
      "text/html": [
       "<div>\n",
       "<style scoped>\n",
       "    .dataframe tbody tr th:only-of-type {\n",
       "        vertical-align: middle;\n",
       "    }\n",
       "\n",
       "    .dataframe tbody tr th {\n",
       "        vertical-align: top;\n",
       "    }\n",
       "\n",
       "    .dataframe thead th {\n",
       "        text-align: right;\n",
       "    }\n",
       "</style>\n",
       "<table border=\"1\" class=\"dataframe\">\n",
       "  <thead>\n",
       "    <tr style=\"text-align: right;\">\n",
       "      <th></th>\n",
       "      <th>0</th>\n",
       "      <th>1</th>\n",
       "      <th>2</th>\n",
       "      <th>3</th>\n",
       "      <th>4</th>\n",
       "      <th>5</th>\n",
       "      <th>6</th>\n",
       "      <th>7</th>\n",
       "      <th>8</th>\n",
       "      <th>9</th>\n",
       "      <th>...</th>\n",
       "      <th>490</th>\n",
       "      <th>491</th>\n",
       "      <th>492</th>\n",
       "      <th>493</th>\n",
       "      <th>494</th>\n",
       "      <th>495</th>\n",
       "      <th>496</th>\n",
       "      <th>497</th>\n",
       "      <th>498</th>\n",
       "      <th>499</th>\n",
       "    </tr>\n",
       "  </thead>\n",
       "  <tbody>\n",
       "    <tr>\n",
       "      <th>0</th>\n",
       "      <td>1.000000</td>\n",
       "      <td>1.000000</td>\n",
       "      <td>1.000000</td>\n",
       "      <td>1.000000</td>\n",
       "      <td>1.000000</td>\n",
       "      <td>1.000000</td>\n",
       "      <td>1.000000</td>\n",
       "      <td>1.000000</td>\n",
       "      <td>1.000000</td>\n",
       "      <td>1.000000</td>\n",
       "      <td>...</td>\n",
       "      <td>1.000000</td>\n",
       "      <td>1.000000</td>\n",
       "      <td>1.000000</td>\n",
       "      <td>1.000000</td>\n",
       "      <td>1.000000</td>\n",
       "      <td>1.000000</td>\n",
       "      <td>1.000000</td>\n",
       "      <td>1.000000</td>\n",
       "      <td>1.000000</td>\n",
       "      <td>1.000000</td>\n",
       "    </tr>\n",
       "    <tr>\n",
       "      <th>1</th>\n",
       "      <td>0.985489</td>\n",
       "      <td>1.001594</td>\n",
       "      <td>1.018425</td>\n",
       "      <td>1.009812</td>\n",
       "      <td>0.992155</td>\n",
       "      <td>1.011857</td>\n",
       "      <td>1.001199</td>\n",
       "      <td>1.002487</td>\n",
       "      <td>1.003330</td>\n",
       "      <td>1.010534</td>\n",
       "      <td>...</td>\n",
       "      <td>0.991043</td>\n",
       "      <td>0.998315</td>\n",
       "      <td>0.993870</td>\n",
       "      <td>0.993978</td>\n",
       "      <td>1.016783</td>\n",
       "      <td>0.990204</td>\n",
       "      <td>1.009182</td>\n",
       "      <td>0.994592</td>\n",
       "      <td>0.996268</td>\n",
       "      <td>0.995135</td>\n",
       "    </tr>\n",
       "    <tr>\n",
       "      <th>2</th>\n",
       "      <td>0.992185</td>\n",
       "      <td>1.006393</td>\n",
       "      <td>1.005417</td>\n",
       "      <td>1.002280</td>\n",
       "      <td>0.966775</td>\n",
       "      <td>1.019111</td>\n",
       "      <td>1.013405</td>\n",
       "      <td>1.004251</td>\n",
       "      <td>1.004514</td>\n",
       "      <td>1.010305</td>\n",
       "      <td>...</td>\n",
       "      <td>1.025488</td>\n",
       "      <td>0.999303</td>\n",
       "      <td>0.999172</td>\n",
       "      <td>0.993505</td>\n",
       "      <td>1.022094</td>\n",
       "      <td>1.010535</td>\n",
       "      <td>1.011545</td>\n",
       "      <td>0.998535</td>\n",
       "      <td>1.012514</td>\n",
       "      <td>1.012823</td>\n",
       "    </tr>\n",
       "    <tr>\n",
       "      <th>3</th>\n",
       "      <td>0.995878</td>\n",
       "      <td>0.993380</td>\n",
       "      <td>1.007127</td>\n",
       "      <td>0.971647</td>\n",
       "      <td>0.964004</td>\n",
       "      <td>1.019692</td>\n",
       "      <td>0.991709</td>\n",
       "      <td>1.015435</td>\n",
       "      <td>1.011434</td>\n",
       "      <td>1.009409</td>\n",
       "      <td>...</td>\n",
       "      <td>1.034802</td>\n",
       "      <td>1.008958</td>\n",
       "      <td>0.991909</td>\n",
       "      <td>0.991395</td>\n",
       "      <td>1.028252</td>\n",
       "      <td>1.014551</td>\n",
       "      <td>0.985678</td>\n",
       "      <td>1.003123</td>\n",
       "      <td>1.021797</td>\n",
       "      <td>1.019452</td>\n",
       "    </tr>\n",
       "    <tr>\n",
       "      <th>4</th>\n",
       "      <td>0.983736</td>\n",
       "      <td>0.984007</td>\n",
       "      <td>1.012160</td>\n",
       "      <td>0.972577</td>\n",
       "      <td>0.976387</td>\n",
       "      <td>1.024226</td>\n",
       "      <td>1.013621</td>\n",
       "      <td>1.005944</td>\n",
       "      <td>1.031120</td>\n",
       "      <td>1.014648</td>\n",
       "      <td>...</td>\n",
       "      <td>1.035930</td>\n",
       "      <td>1.005676</td>\n",
       "      <td>0.996975</td>\n",
       "      <td>1.002666</td>\n",
       "      <td>1.026369</td>\n",
       "      <td>1.017520</td>\n",
       "      <td>0.979373</td>\n",
       "      <td>0.995868</td>\n",
       "      <td>1.016469</td>\n",
       "      <td>1.035601</td>\n",
       "    </tr>\n",
       "    <tr>\n",
       "      <th>...</th>\n",
       "      <td>...</td>\n",
       "      <td>...</td>\n",
       "      <td>...</td>\n",
       "      <td>...</td>\n",
       "      <td>...</td>\n",
       "      <td>...</td>\n",
       "      <td>...</td>\n",
       "      <td>...</td>\n",
       "      <td>...</td>\n",
       "      <td>...</td>\n",
       "      <td>...</td>\n",
       "      <td>...</td>\n",
       "      <td>...</td>\n",
       "      <td>...</td>\n",
       "      <td>...</td>\n",
       "      <td>...</td>\n",
       "      <td>...</td>\n",
       "      <td>...</td>\n",
       "      <td>...</td>\n",
       "      <td>...</td>\n",
       "      <td>...</td>\n",
       "    </tr>\n",
       "    <tr>\n",
       "      <th>2516</th>\n",
       "      <td>1.426017</td>\n",
       "      <td>1.897200</td>\n",
       "      <td>2.630577</td>\n",
       "      <td>1.478575</td>\n",
       "      <td>4.588821</td>\n",
       "      <td>1.322737</td>\n",
       "      <td>2.715184</td>\n",
       "      <td>3.366929</td>\n",
       "      <td>1.411148</td>\n",
       "      <td>1.787115</td>\n",
       "      <td>...</td>\n",
       "      <td>4.057422</td>\n",
       "      <td>2.897898</td>\n",
       "      <td>2.761276</td>\n",
       "      <td>2.847234</td>\n",
       "      <td>3.017664</td>\n",
       "      <td>5.781720</td>\n",
       "      <td>4.930571</td>\n",
       "      <td>4.949141</td>\n",
       "      <td>5.356696</td>\n",
       "      <td>1.725643</td>\n",
       "    </tr>\n",
       "    <tr>\n",
       "      <th>2517</th>\n",
       "      <td>1.411937</td>\n",
       "      <td>1.912484</td>\n",
       "      <td>2.686389</td>\n",
       "      <td>1.470476</td>\n",
       "      <td>4.645178</td>\n",
       "      <td>1.321055</td>\n",
       "      <td>2.722908</td>\n",
       "      <td>3.378157</td>\n",
       "      <td>1.407696</td>\n",
       "      <td>1.792191</td>\n",
       "      <td>...</td>\n",
       "      <td>4.032337</td>\n",
       "      <td>2.876677</td>\n",
       "      <td>2.803836</td>\n",
       "      <td>2.783853</td>\n",
       "      <td>3.060490</td>\n",
       "      <td>5.767064</td>\n",
       "      <td>4.930170</td>\n",
       "      <td>4.923687</td>\n",
       "      <td>5.244795</td>\n",
       "      <td>1.720634</td>\n",
       "    </tr>\n",
       "    <tr>\n",
       "      <th>2518</th>\n",
       "      <td>1.423356</td>\n",
       "      <td>1.907123</td>\n",
       "      <td>2.703033</td>\n",
       "      <td>1.494915</td>\n",
       "      <td>4.659380</td>\n",
       "      <td>1.304999</td>\n",
       "      <td>2.731588</td>\n",
       "      <td>3.341781</td>\n",
       "      <td>1.425328</td>\n",
       "      <td>1.777029</td>\n",
       "      <td>...</td>\n",
       "      <td>4.060125</td>\n",
       "      <td>2.875834</td>\n",
       "      <td>2.831245</td>\n",
       "      <td>2.797848</td>\n",
       "      <td>3.082221</td>\n",
       "      <td>5.778596</td>\n",
       "      <td>4.923213</td>\n",
       "      <td>4.918890</td>\n",
       "      <td>5.252507</td>\n",
       "      <td>1.719382</td>\n",
       "    </tr>\n",
       "    <tr>\n",
       "      <th>2519</th>\n",
       "      <td>1.430426</td>\n",
       "      <td>1.915365</td>\n",
       "      <td>2.717718</td>\n",
       "      <td>1.518012</td>\n",
       "      <td>4.710977</td>\n",
       "      <td>1.294315</td>\n",
       "      <td>2.710544</td>\n",
       "      <td>3.382215</td>\n",
       "      <td>1.401567</td>\n",
       "      <td>1.787685</td>\n",
       "      <td>...</td>\n",
       "      <td>4.087629</td>\n",
       "      <td>2.869991</td>\n",
       "      <td>2.824861</td>\n",
       "      <td>2.785699</td>\n",
       "      <td>3.093828</td>\n",
       "      <td>5.806517</td>\n",
       "      <td>5.029691</td>\n",
       "      <td>4.956693</td>\n",
       "      <td>5.327008</td>\n",
       "      <td>1.716391</td>\n",
       "    </tr>\n",
       "    <tr>\n",
       "      <th>2520</th>\n",
       "      <td>1.415552</td>\n",
       "      <td>1.924311</td>\n",
       "      <td>2.776003</td>\n",
       "      <td>1.508723</td>\n",
       "      <td>4.815784</td>\n",
       "      <td>1.292426</td>\n",
       "      <td>2.717585</td>\n",
       "      <td>3.345516</td>\n",
       "      <td>1.417513</td>\n",
       "      <td>1.790951</td>\n",
       "      <td>...</td>\n",
       "      <td>4.060073</td>\n",
       "      <td>2.822354</td>\n",
       "      <td>2.837052</td>\n",
       "      <td>2.785289</td>\n",
       "      <td>3.084403</td>\n",
       "      <td>5.945485</td>\n",
       "      <td>5.030152</td>\n",
       "      <td>4.877687</td>\n",
       "      <td>5.329289</td>\n",
       "      <td>1.745588</td>\n",
       "    </tr>\n",
       "  </tbody>\n",
       "</table>\n",
       "<p>2521 rows × 500 columns</p>\n",
       "</div>"
      ],
      "text/plain": [
       "           0         1         2         3         4         5         6    \\\n",
       "0     1.000000  1.000000  1.000000  1.000000  1.000000  1.000000  1.000000   \n",
       "1     0.985489  1.001594  1.018425  1.009812  0.992155  1.011857  1.001199   \n",
       "2     0.992185  1.006393  1.005417  1.002280  0.966775  1.019111  1.013405   \n",
       "3     0.995878  0.993380  1.007127  0.971647  0.964004  1.019692  0.991709   \n",
       "4     0.983736  0.984007  1.012160  0.972577  0.976387  1.024226  1.013621   \n",
       "...        ...       ...       ...       ...       ...       ...       ...   \n",
       "2516  1.426017  1.897200  2.630577  1.478575  4.588821  1.322737  2.715184   \n",
       "2517  1.411937  1.912484  2.686389  1.470476  4.645178  1.321055  2.722908   \n",
       "2518  1.423356  1.907123  2.703033  1.494915  4.659380  1.304999  2.731588   \n",
       "2519  1.430426  1.915365  2.717718  1.518012  4.710977  1.294315  2.710544   \n",
       "2520  1.415552  1.924311  2.776003  1.508723  4.815784  1.292426  2.717585   \n",
       "\n",
       "           7         8         9    ...       490       491       492  \\\n",
       "0     1.000000  1.000000  1.000000  ...  1.000000  1.000000  1.000000   \n",
       "1     1.002487  1.003330  1.010534  ...  0.991043  0.998315  0.993870   \n",
       "2     1.004251  1.004514  1.010305  ...  1.025488  0.999303  0.999172   \n",
       "3     1.015435  1.011434  1.009409  ...  1.034802  1.008958  0.991909   \n",
       "4     1.005944  1.031120  1.014648  ...  1.035930  1.005676  0.996975   \n",
       "...        ...       ...       ...  ...       ...       ...       ...   \n",
       "2516  3.366929  1.411148  1.787115  ...  4.057422  2.897898  2.761276   \n",
       "2517  3.378157  1.407696  1.792191  ...  4.032337  2.876677  2.803836   \n",
       "2518  3.341781  1.425328  1.777029  ...  4.060125  2.875834  2.831245   \n",
       "2519  3.382215  1.401567  1.787685  ...  4.087629  2.869991  2.824861   \n",
       "2520  3.345516  1.417513  1.790951  ...  4.060073  2.822354  2.837052   \n",
       "\n",
       "           493       494       495       496       497       498       499  \n",
       "0     1.000000  1.000000  1.000000  1.000000  1.000000  1.000000  1.000000  \n",
       "1     0.993978  1.016783  0.990204  1.009182  0.994592  0.996268  0.995135  \n",
       "2     0.993505  1.022094  1.010535  1.011545  0.998535  1.012514  1.012823  \n",
       "3     0.991395  1.028252  1.014551  0.985678  1.003123  1.021797  1.019452  \n",
       "4     1.002666  1.026369  1.017520  0.979373  0.995868  1.016469  1.035601  \n",
       "...        ...       ...       ...       ...       ...       ...       ...  \n",
       "2516  2.847234  3.017664  5.781720  4.930571  4.949141  5.356696  1.725643  \n",
       "2517  2.783853  3.060490  5.767064  4.930170  4.923687  5.244795  1.720634  \n",
       "2518  2.797848  3.082221  5.778596  4.923213  4.918890  5.252507  1.719382  \n",
       "2519  2.785699  3.093828  5.806517  5.029691  4.956693  5.327008  1.716391  \n",
       "2520  2.785289  3.084403  5.945485  5.030152  4.877687  5.329289  1.745588  \n",
       "\n",
       "[2521 rows x 500 columns]"
      ]
     },
     "execution_count": 75,
     "metadata": {},
     "output_type": "execute_result"
    }
   ],
   "source": [
    "# Run the Monte Carlo simulation to forecast 10 years cumulative returns\n",
    "MC_tenyear.calc_cumulative_return()\n"
   ]
  },
  {
   "cell_type": "code",
   "execution_count": 76,
   "metadata": {},
   "outputs": [
    {
     "data": {
      "image/png": "[encoded data removed]",
      "text/plain": [
       "<Figure size 432x288 with 1 Axes>"
      ]
     },
     "metadata": {
      "needs_background": "light"
     },
     "output_type": "display_data"
    }
   ],
   "source": [
    "# Visualize the 10-year Monte Carlo simulation by creating an\n",
    "# overlay line plot\n",
    "MC_sim_line_plot = MC_tenyear.plot_simulation()\n"
   ]
  },
  {
   "cell_type": "code",
   "execution_count": 77,
   "metadata": {},
   "outputs": [
    {
     "data": {
      "image/png": "[encoded data removed]",
      "text/plain": [
       "<Figure size 432x288 with 1 Axes>"
      ]
     },
     "metadata": {
      "needs_background": "light"
     },
     "output_type": "display_data"
    }
   ],
   "source": [
    "# Visualize the probability distribution of the 10-year Monte Carlo simulation \n",
    "# by plotting a histogram\n",
    "MC_sim_dist_plot = MC_tenyear.plot_distribution()\n"
   ]
  },
  {
   "cell_type": "code",
   "execution_count": 78,
   "metadata": {},
   "outputs": [
    {
     "name": "stdout",
     "output_type": "stream",
     "text": [
      "count           500.000000\n",
      "mean              4.489184\n",
      "std               2.889013\n",
      "min               0.656256\n",
      "25%               2.593988\n",
      "50%               3.744438\n",
      "75%               5.562706\n",
      "max              20.998020\n",
      "95% CI Lower      1.193734\n",
      "95% CI Upper     12.187407\n",
      "Name: 2520, dtype: float64\n"
     ]
    }
   ],
   "source": [
    "# Generate summary statistics from the 10-year Monte Carlo simulation results\n",
    "# Save the results as a variable\n",
    "MC_summary_statistics = MC_tenyear.summarize_cumulative_return()\n",
    "\n",
    "\n",
    "# Review the 10-year Monte Carlo summary statistics\n",
    "print(MC_summary_statistics)"
   ]
  },
  {
   "cell_type": "markdown",
   "metadata": {},
   "source": [
    "### Answer the following questions:"
   ]
  },
  {
   "cell_type": "markdown",
   "metadata": {},
   "source": [
    "#### Question: Using the current value of only the stock and bond portion of the member's portfolio and the summary statistics that you generated from the new Monte Carlo simulation, what are the lower and upper bounds for the expected value of the portfolio (with the new weights) with a 95% confidence interval?"
   ]
  },
  {
   "cell_type": "code",
   "execution_count": 79,
   "metadata": {},
   "outputs": [
    {
     "name": "stdout",
     "output_type": "stream",
     "text": [
      "The current balance of the stock and bond portion of the portfolio is $71,523.90\n"
     ]
    }
   ],
   "source": [
    "# Print the current balance of the stock and bond portion of the members portfolio\n",
    "print(f\"The current balance of the stock and bond portion of the portfolio is ${total_stocks_bonds:,.2f}\")\n"
   ]
  },
  {
   "cell_type": "code",
   "execution_count": 81,
   "metadata": {},
   "outputs": [
    {
     "name": "stdout",
     "output_type": "stream",
     "text": [
      "There is a 95% chance that the portfolio over the next 10 years will end within in the range of $85,380.50 and $871,690.87.\n"
     ]
    }
   ],
   "source": [
    "# Use the lower and upper `95%` confidence intervals to calculate the range of the possible outcomes for the current stock/bond portfolio\n",
    "ci_lower_ten_cumulative_return = MC_summary_statistics[8]*total_stocks_bonds\n",
    "ci_upper_ten_cumulative_return = MC_summary_statistics[9]*total_stocks_bonds\n",
    "\n",
    "# Print the result of your calculations\n",
    "print(f\"There is a 95% chance that the portfolio over the next 10 years will end within in the range of ${ci_lower_ten_cumulative_return:,.2f} and ${ci_upper_ten_cumulative_return:,.2f}.\")\n"
   ]
  },
  {
   "cell_type": "markdown",
   "metadata": {},
   "source": [
    "#### Question: Will weighting the portfolio more heavily to stocks allow the credit union members to retire after only 10 years?"
   ]
  },
  {
   "cell_type": "raw",
   "metadata": {},
   "source": [
    "**Answer** Although the upper bound is potentially enough to retire, the lower bound is not and therefore I cannot recommend this strategy to retire in the shortened 10 year timeframe."
   ]
  },
  {
   "cell_type": "code",
   "execution_count": null,
   "metadata": {},
   "outputs": [],
   "source": []
  }
 ],
 "metadata": {
  "kernelspec": {
   "display_name": "Python (dev)",
   "language": "python",
   "name": "dev"
  },
  "language_info": {
   "codemirror_mode": {
    "name": "ipython",
    "version": 3
   },
   "file_extension": ".py",
   "mimetype": "text/x-python",
   "name": "python",
   "nbconvert_exporter": "python",
   "pygments_lexer": "ipython3",
   "version": "3.7.10"
  }
 },
 "nbformat": 4,
 "nbformat_minor": 4
}
